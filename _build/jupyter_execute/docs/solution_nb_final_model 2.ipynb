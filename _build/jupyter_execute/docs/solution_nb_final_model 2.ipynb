{
 "cells": [
  {
   "cell_type": "markdown",
   "id": "2110c0c1",
   "metadata": {},
   "source": [
    "(coupled:solution)=\n",
    "### Boundary layer model with coupled surface energy balance and soil module\n",
    "\n",
    "The aim of this exercise is to include the SEB and soil module in the boundary layer model. "
   ]
  },
  {
   "cell_type": "markdown",
   "id": "8b804c65",
   "metadata": {},
   "source": [
    "**Step 1**: Load the SEB model. "
   ]
  },
  {
   "cell_type": "code",
   "execution_count": 1,
   "id": "818879fe",
   "metadata": {},
   "outputs": [],
   "source": [
    "import math\n",
    "import numpy as np\n",
    "from scipy.optimize import minimize, minimize_scalar\n",
    "import matplotlib.pyplot as plt\n",
    "\n",
    "%matplotlib inline\n",
    "\n",
    "\n",
    "def EB_fluxes(T_0,T_a,f,albedo,G,p,rho,U_L,z,z_0):\n",
    "    \"\"\" This function calculates the energy fluxes from the following quantities:\n",
    "    \n",
    "    Input: \n",
    "    T_0       : Surface temperature, which is optimized [K]\n",
    "    f         : Relative humdity as fraction, e.g. 0.7 [-]\n",
    "    albedo    : Snow albedo [-]\n",
    "    G         : Shortwave radiation [W m^-2]\n",
    "    p         : Air pressure [hPa]\n",
    "    rho       : Air denisty [kg m^-3]\n",
    "    z         : Measurement height [m]\n",
    "    z_0       : Roughness length [m]\n",
    "    \n",
    "    \"\"\"\n",
    "    \n",
    "    # Some constants\n",
    "    c_p = 1004.0      # specific heat [J kg^-1 K^-1]\n",
    "    kappa = 0.40      # Von Karman constant [-]\n",
    "    sigma = 5.67e-8   # Stefan-Bolzmann constant\n",
    "    \n",
    "    # Bulk coefficients \n",
    "    Cs_t = np.power(kappa,2.0) / ( np.log(z/z_0) * np.log(z/z_0) )\n",
    "    Cs_q = np.power(kappa,2.0) / ( np.log(z/z_0) * np.log(z/z_0) )  \n",
    "    \n",
    "    # Correction factor for incoming longwave radiation\n",
    "    eps_cs = 0.23 + 0.433 * np.power(100*(f*E_sat(T_a))/T_a,1.0/8.0)\n",
    "    \n",
    "    # Select the appropriate latent heat constant\n",
    "    L = 2.83e6 # latent heat for sublimation\n",
    "\n",
    "    # Calculate turbulent fluxes\n",
    "    H_0 = rho * c_p  * Cs_t * U_L * (T_0-T_a)\n",
    "    E_0 = rho * ((L*0.622)/p) * Cs_q * U_L * (E_sat(T_0)-f*E_sat(T_a))\n",
    "    \n",
    "    # Calculate radiation budget\n",
    "    L_d = eps_cs * sigma * (T_a)**4\n",
    "    L_u = sigma * (T_0)**4 \n",
    "    Q_0 = (1-albedo)*G #+ L_d - L_u\n",
    "\n",
    "    return (Q_0, L_d, L_u, H_0, E_0)\n",
    "\n",
    "def E_sat(T):\n",
    "    \"\"\" Saturation water vapor equation \"\"\"\n",
    "    Ew = 6.112 * np.exp((17.67*(T-273.16)) / ((T-29.66)))\n",
    "    return Ew\n",
    "\n",
    "\n",
    "def optim_T0(x,T_a,f,albedo,G,p,rho,U_L,z,z0):\n",
    "    \"\"\" Optimization function for surface temperature:\n",
    "    \n",
    "    Input: \n",
    "    T_0       : Surface temperature, which is optimized [K]\n",
    "    f         : Relative humdity as fraction, e.g. 0.7 [-]\n",
    "    albedo    : Snow albedo [-]\n",
    "    G         : Shortwave radiation [W m^-2]\n",
    "    p         : Air pressure [hPa]\n",
    "    rho       : Air denisty [kg m^-3]\n",
    "    z         : Measurement height [m]\n",
    "    z_0       : Roughness length [m]\n",
    "    \n",
    "    \"\"\"\n",
    "    \n",
    "    Q_0, L_d, L_u, H_0, E_0 = EB_fluxes(x,T_a,f,albedo,G,p,rho,U_L,z,z0)\n",
    "    \n",
    "    # Get residual for optimization\n",
    "    res = np.abs(Q_0+L_d-L_u-H_0-E_0)\n",
    "\n",
    "    # return the residuals\n",
    "    return res"
   ]
  },
  {
   "cell_type": "markdown",
   "id": "ba2ecaeb",
   "metadata": {},
   "source": [
    "**Step 2**: Extend the heat equation to 2D."
   ]
  },
  {
   "cell_type": "code",
   "execution_count": 2,
   "id": "470c47b2",
   "metadata": {},
   "outputs": [],
   "source": [
    "import numpy as np\n",
    "import matplotlib.pyplot as plt\n",
    "import math\n",
    "\n",
    "\n",
    "def heat_equation_time_2D(T, dz, dt):\n",
    "    \"\"\" This is a 2D version of the heat equation. It takes only the 2D-temperature\n",
    "    field, dz the spacing in the vertical and the timestep dt. The function returns the\n",
    "    updated temperature field.\"\"\"\n",
    "\n",
    "    # Definitions and assignments\n",
    "    K   = 1.2e-6               # Conductivity\n",
    " \n",
    "    # Define index arrays \n",
    "    Nz = T.shape[0]\n",
    "    k  = np.arange(1,Nz-1)  # all indices at location i\n",
    "    kr  = np.arange(2,Nz)   # all indices at location i+1\n",
    "    kl  = np.arange(0,Nz-2) # all indices at location i-1\n",
    "\n",
    "    # Create array for new temperature values\n",
    "    Tnew = T\n",
    "\n",
    "    # Loop over x-direction\n",
    "    for x in range(T.shape[1]):\n",
    "\n",
    "        # Set lower BC - Neumann condition\n",
    "        T[Nz-1,:] = T[Nz-2,:]\n",
    "        \n",
    "        # Update temperature using indices arrays\n",
    "        Tnew[k,x] = T[k,x] + ((T[kr,x] + T[kl,x] - 2*T[k,x])/dz**2) * dt * K\n",
    "        \n",
    "        # Copy the new temperature als old timestep values (used for the \n",
    "        # next time loop step)\n",
    "        T = Tnew\n",
    "\n",
    "\n",
    "    # return temperature array, grid spacing, and number of integration steps\n",
    "    return T"
   ]
  },
  {
   "cell_type": "markdown",
   "id": "5363dbc4",
   "metadata": {},
   "source": [
    "**Step 3**: Test the soil module"
   ]
  },
  {
   "cell_type": "code",
   "execution_count": 3,
   "id": "d7cf994c",
   "metadata": {},
   "outputs": [
    {
     "data": {
      "image/png": "[encoded data removed]",
      "text/plain": [
       "<Figure size 1080x432 with 1 Axes>"
      ]
     },
     "metadata": {
      "filenames": {
       "image/png": "/Users/tsauter/Library/Mobile Documents/com~apple~CloudDocs/HU/Teaching/Kurse_SS_2022/climate_modelling/_build/jupyter_execute/docs/solution_nb_final_model_6_0.png"
      },
      "needs_background": "light"
     },
     "output_type": "display_data"
    }
   ],
   "source": [
    "# Define necessary variables and parameters\n",
    "# for the soil module\n",
    "Nx = 20\n",
    "Nz = 40\n",
    "dx = 500\n",
    "dz = 0.5\n",
    "x = np.arange(0, Nx*dx, dx)\n",
    "z = np.arange(0, -Nz*dz, -dz)\n",
    "\n",
    "# Initial temperature field\n",
    "T = np.zeros((Nz, Nx))\n",
    "\n",
    "# Do some test runs\n",
    "for t in range(4):\n",
    "    T = heat_equation_time_2D(T, 1, 86400)\n",
    "\n",
    "plt.figure(figsize=(15,6))\n",
    "plt.contourf(x, z, T);"
   ]
  },
  {
   "cell_type": "markdown",
   "id": "547fac6b",
   "metadata": {},
   "source": [
    "**Step 4**: Now, combine the SEB module with the soil module"
   ]
  },
  {
   "cell_type": "code",
   "execution_count": 4,
   "id": "a34887b6",
   "metadata": {},
   "outputs": [],
   "source": [
    "# Define necessary variables and parameters\n",
    "# for the SEB\n",
    "T_0    = 283.0   # Surface temperature\n",
    "T_a    = 280.0   # Air temperature \n",
    "f      = 0.7     # Relative humidity\n",
    "albedo = 0.3     # albedo\n",
    "G      = 700.0   # Incoming shortwave radiation\n",
    "rho    = 1.1     # Air density\n",
    "U      = 2.0     # Wind velocity\n",
    "z      =  2.0    # Measurement height\n",
    "z0     = 1e-3    # Roughness length\n",
    "p      = 1013    # Pressure\n",
    "\n",
    "# Define necessary variables and parameters\n",
    "# for the soil module\n",
    "Nx = 20\n",
    "Nz = 40\n",
    "dx = 500\n",
    "dz = 0.5\n",
    "\n",
    "# Initial temperature field\n",
    "T = np.zeros((Nz, Nx))\n",
    "\n",
    "# Integration parameters\n",
    "dt = 3600\n",
    "integration = 12\n",
    "\n",
    "\n",
    "# Iterate over time\n",
    "for t in range(integration):\n",
    "    \n",
    "    # Do some artificial global radiation\n",
    "    G = np.maximum(700 * np.sin((2*math.pi*t)/24), 0)\n",
    "    \n",
    "    # Loop over all x-cells and calculate the surface temperature\n",
    "    for x in range(T.shape[1]):\n",
    "        \n",
    "        # Set the initial guess for the temperature optimization\n",
    "        T_0 = T[0,x]\n",
    "        \n",
    "        #-----------------------------------\n",
    "        # Solve for the surface temperature\n",
    "        #-----------------------------------\n",
    "        res = minimize(optim_T0,x0=T_0,args=(T_a,f,albedo,G,p,rho,U,z,z0),bounds=((None,400),), \\\n",
    "                method='L-BFGS-B',options={'eps':1e-8})\n",
    "        \n",
    "        # Assign optimized surface temperature to the temperature array\n",
    "        T[0,x] = res.x\n",
    "      \n",
    "    #-------------------------\n",
    "    # Solve the heat equation\n",
    "    #-------------------------\n",
    "    T = heat_equation_time_2D(T, dz, dt)\n",
    "    \n"
   ]
  },
  {
   "cell_type": "code",
   "execution_count": 5,
   "id": "8417847e",
   "metadata": {},
   "outputs": [
    {
     "data": {
      "text/plain": [
       "<matplotlib.contour.QuadContourSet at 0x11ffd2370>"
      ]
     },
     "execution_count": 5,
     "metadata": {},
     "output_type": "execute_result"
    },
    {
     "data": {
      "image/png": "[encoded data removed]",
      "text/plain": [
       "<Figure size 1080x432 with 1 Axes>"
      ]
     },
     "metadata": {
      "filenames": {
       "image/png": "/Users/tsauter/Library/Mobile Documents/com~apple~CloudDocs/HU/Teaching/Kurse_SS_2022/climate_modelling/_build/jupyter_execute/docs/solution_nb_final_model_9_1.png"
      },
      "needs_background": "light"
     },
     "output_type": "display_data"
    }
   ],
   "source": [
    "# Do some plots\n",
    "x = np.arange(0, Nx*dx, dx)\n",
    "z = np.arange(0, -Nz*dz, -dz)\n",
    "\n",
    "plt.figure(figsize=(15,6))\n",
    "plt.contourf(x,z,T)"
   ]
  },
  {
   "cell_type": "markdown",
   "id": "f635f321",
   "metadata": {},
   "source": [
    "**Step 5**: Add the boundary layer model."
   ]
  },
  {
   "cell_type": "code",
   "execution_count": 6,
   "id": "45e6ffcb",
   "metadata": {},
   "outputs": [],
   "source": [
    "import numpy as np\n",
    "import matplotlib.pyplot as plt\n",
    "import math\n",
    "    \n",
    "# --------------------------\n",
    "# Auxiliary functions\n",
    "# --------------------------\n",
    "def saturation_water_vapor(T):\n",
    "    \"\"\" Calculates the saturation water vapor pressure [Pa]\"\"\"\n",
    "    return ( 6.122*np.exp( (17.67*(T-273.16))/(T-29.66) ) )\n",
    "\n",
    "def hypsometric_eqn(p0, Tv, z):\n",
    "    \"\"\"Hypsometric equation to calculate the pressure [hPa] at a certain height[m]\n",
    "       when the surface pressure is given\n",
    "       p0 :: surface pressure [hPa]\n",
    "       Tv :: mean virtual temperature of atmosphere [K]\n",
    "       z  :: height above ground [m]\n",
    "    \"\"\"\n",
    "    return(p0/(np.exp((9.81*z)/(287.4*Tv) )))\n",
    "\n",
    "def mixing_ratio(theta, p0, Tv, z):\n",
    "    \"\"\" Calculates the mixing ratio from\n",
    "        theta :: temperature [K]\n",
    "        p0    :: surface pressure [hPa]\n",
    "        Tv    :: mean virtual temperature of atmosphere [K]\n",
    "        z     :: height [m]\n",
    "    \"\"\"\n",
    "    return(622.97 * (saturation_water_vapor(theta)/(hypsometric_eqn(p0,Tv,z)-saturation_water_vapor(theta))))\n",
    "\n",
    "def make_plot(data, x, z, levels, title, unit, xlab, zlab, cmap='RdBu_r', size=(18,5)):\n",
    "    \"\"\" Useful function for plotting 2D-fields as contour plot\"\"\"\n",
    "    \n",
    "    # Create figure\n",
    "    fig, ax = plt.subplots(1,1,figsize=size);\n",
    "    cn0 = ax.contourf(x,z,data,10,origin='lower',levels=levels,cmap=cmap);\n",
    "    \n",
    "    # Add the colorbar and set ticks and labels\n",
    "    cbar= fig.colorbar(cn0, ax=ax, orientation='vertical')\n",
    "    cbar.set_label(label=unit, size=16)\n",
    "    cbar.ax.tick_params(labelsize=14)\n",
    "    \n",
    "    # Add labels and modify ticks\n",
    "    ax.set_xlabel(xlab, fontsize=14)\n",
    "    ax.set_ylabel(zlab, fontsize=14)\n",
    "    ax.set_title(title)\n",
    "    \n",
    "    # return the handler to the figure axes\n",
    "    return ax\n",
    "    \n",
    "    \n",
    "    \n",
    "def boundary_layer_evolution_moisture(theta, q, u, K, dx, dz, Nx, Nz, dt):\n",
    "    \"\"\" Simple advection-diffusion equation.\n",
    "    \n",
    "    integration :: Integration time in seconds\n",
    "    Nz          :: Number of grid points\n",
    "    dt          :: time step in seconds\n",
    "    K           :: turbulent diffusivity\n",
    "    u           :: Speed of fluid\n",
    "    \"\"\"\n",
    "    \n",
    "    # Define index arrays \n",
    "    # Since this a 2D problem we need to define two index arrays.\n",
    "    # The first set of index arrays is used for indexing in x-direction. This\n",
    "    # is needed to calculate the derivatives in x-direction (advection)\n",
    "    k   = np.arange(1,Nx-1) # center cell\n",
    "    kr  = np.arange(2,Nx)   # cells to the right\n",
    "    kl  = np.arange(0,Nx-2) # cells to the left\n",
    "    \n",
    "    # The second set of index arrays is used for indexing in z-direction. This\n",
    "    # is needed to calculate the derivates in z-direction (turbulent diffusion)\n",
    "    m   = np.arange(1,Nz-1) # center cell\n",
    "    mu  = np.arange(2,Nz)   # cells above \n",
    "    md  = np.arange(0,Nz-2) # cells below\n",
    "\n",
    "    # --------------------------\n",
    "    # Init other arrays\n",
    "    # --------------------------\n",
    "    cov = np.zeros((Nz, Nx))        # Empty array for the covariances\n",
    "    adv = np.zeros((Nz, Nx))        # Empty array for the advection term \n",
    "    \n",
    "    # --------------------------\n",
    "    # Dimensionless parameters\n",
    "    # --------------------------\n",
    "    c = (u*dt)/dx\n",
    "    d = (K*dt)/(dz**2)\n",
    "\n",
    "    # --------------------------\n",
    "    # Integrate the model\n",
    "    # --------------------------\n",
    "\n",
    "    # Set BC top (Neumann condition)\n",
    "    # The last term accounts for the fixed gradient of 0.01\n",
    "    theta[Nz-1, :] = theta[Nz-2, :]\n",
    "    \n",
    "    # Set top BC for moisture\n",
    "    q[Nz-1, :] = q[Nz-2, :] \n",
    "\n",
    "    # Set BC right (Dirichlet condition)\n",
    "    theta[:, Nx-1] = theta[:, Nx-2]\n",
    "\n",
    "    # Set right BC for moisture\n",
    "    q[:, Nx-1] = q[:, Nx-2]\n",
    "\n",
    "    # We need to keep track of the old values for calculating the new derivatives.\n",
    "    # That means, the temperature value a grid cell is calculated from its values \n",
    "    # plus the correction term calculated from the old values. This guarantees that\n",
    "    # the gradients for the x an z direction are based on the same old values.\n",
    "    old = theta\n",
    "    old_q = q\n",
    "\n",
    "    # First update grid cells in z-direction. Here, we loop over all x grid cells and\n",
    "    # use the index arrays m, mu, md to calculate the gradients for the\n",
    "    # turbulent diffusion (which only depends on z)\n",
    "    for x in range(1,Nx-1):\n",
    "        # Update temperature including lapse rate \n",
    "        theta[m,x] = theta[m,x] + ((K*dt)/(dz**2))*(old[mu,x]+old[md,x]-2*old[m,x]) + lapse_rate\n",
    "        # Moisture transport (turbulent diffusion)\n",
    "        q[m,x] = q[m,x] + ((K*dt)/(dz**2))*(old_q[mu,x]+old_q[md,x]-2*old_q[m,x])\n",
    "        # Calculate the warming rate [K/s] by covariance\n",
    "        cov[m,x] = ((K)/(dz**2))*(old[mu,x]+old[md,x]-2*old[m,x])\n",
    "\n",
    "    # Then update grid cells in x-direction. Here, we loop over all z grid cells and\n",
    "    # use the index arrays k, kl, kr to calculate the gradients for the\n",
    "    # advection (which only depends on x)\n",
    "    for z in range(1,Nz-1):\n",
    "        # temperature advection\n",
    "        theta[z,k] = theta[z,k] - ((u*dt)/(dx))*(old[z,k]-old[z,kl])\n",
    "        # moisture advection\n",
    "        q[z,k] = q[z,k] - ((u*dt)/(dx))*(old_q[z,k]-old_q[z,kl])\n",
    "        # Calculate the warming rate [K/s] by the horizontal advection \n",
    "        # Note: Here, we use a so-called upwind-scheme (backward discretization)\n",
    "        adv[z,k] = - (u/dx)*(old[z,k]-old[z,kl])\n",
    "\n",
    "    # Calculate new saturation mixing ratio\n",
    "    qsat = mixing_ratio(theta, 1013, 270, height)\n",
    "\n",
    "    # Then the relative humidity using qsat\n",
    "    # Limit the relative humidity to 100 %\n",
    "    rH = np.minimum(q/qsat, 1)\n",
    "\n",
    "    # Return results    \n",
    "    return theta, q, qsat, rH, cov, adv, c, d, np.arange(0, Nx*dx, dx), np.arange(0, Nz*dz, dz)\n"
   ]
  },
  {
   "cell_type": "markdown",
   "id": "1bb26a9c",
   "metadata": {},
   "source": [
    "**Step 6**: Combine the boundary layer model with the SEB and soil modules."
   ]
  },
  {
   "cell_type": "code",
   "execution_count": 7,
   "id": "b017a7e6",
   "metadata": {},
   "outputs": [],
   "source": [
    "#--------------------------------------------\n",
    "# General parameters\n",
    "#--------------------------------------------\n",
    "lake_from = 10 # Where does the lake start (grid cell)\n",
    "lake_to = 20   # where does the lake end (grid cell)\n",
    "Nx = 50        # how many grid cells in x-direction\n",
    "dx = 500       # grid spacing in x\n",
    "\n",
    "# Integration parameters\n",
    "dt = 60             # timestep in seconds\n",
    "integration = 4*60 # number of integration steps\n",
    "\n",
    "#--------------------------------------------\n",
    "# Define necessary variables and parameters\n",
    "# for the SEB\n",
    "#--------------------------------------------\n",
    "albedo = 0.3     # albedo [-]\n",
    "G      = 200.0   # Incoming shortwave radiation\n",
    "rho    = 1.1     # Air density [kg m^-3]\n",
    "U      = 5.0     # Wind velocity [m/s]\n",
    "z      = 2.0     # Measurement height [m]\n",
    "z0     = 1e-3    # Roughness length [m]\n",
    "p      = 1013    # Pressure [hPa]\n",
    "\n",
    "# Just for fun!!!\n",
    "albedo = 0.3 * np.ones(Nx)\n",
    "albedo[lake_to:-1] = 0.5\n",
    "\n",
    "#--------------------------------------------\n",
    "# Define necessary variables and parameters\n",
    "# for the soil module\n",
    "#--------------------------------------------\n",
    "Nz = 10      # Number of grid cells in the soil\n",
    "dz = 0.1    # grid spacing [m]\n",
    "Tsoil = 268  # Initial soil temperatures\n",
    "Tlake = 278  # Lake temperatures\n",
    "\n",
    "# Initial soil temperature field\n",
    "T = Tsoil * np.ones((Nz, Nx))\n",
    "T[:, lake_from:lake_to] = Tlake\n",
    "\n",
    "\n",
    "# --------------------------------------\n",
    "# Initial atmospheric temperature field\n",
    "# --------------------------------------\n",
    "Nza = 20 # Number of vertical grid cells in the atmosphere\n",
    "dza = 10  # Grid spacing [m]\n",
    "\n",
    "# Neutral stratification with lapse rate of 0.01 K/m\n",
    "# Create a 1D-array with the vertical temperature distribution\n",
    "# Surface = 268 K, decreasing according to the dry-adiabative lapse rate 0.01 K/m\n",
    "Tatm = 268           # initial temperature of the atmosphere [K]\n",
    "lapse_rate = -0.01   # lapse rate [K/m]\n",
    "theta_vec = np.array([Tatm + lapse_rate * (dza * z) for z in range(Nza)])\n",
    "theta = np.array([theta_vec,] * Nx).transpose() \n",
    "\n",
    "# The lower temperature boundary needs to be updated where there is the lake\n",
    "theta[0, lake_from:lake_to] = Tlake\n",
    "\n",
    "# Make height grid\n",
    "height = np.array([np.arange(0,Nza*dza,dza),] * Nx).transpose()\n",
    "\n",
    "# --------------------------\n",
    "# Initialize moisture fields \n",
    "# --------------------------\n",
    "# Init saturation mixing ratio array\n",
    "qsat = mixing_ratio(theta, 1013, Tatm, height)\n",
    "\n",
    "# Use qsat to derive mixing ratio at each grid cell assuming a \n",
    "# decreasing relative humidity from 70 % at the surfacee to 20 % at the top\n",
    "q = (qsat.T * np.linspace(0.8, 0.2, Nza)).T\n",
    "\n",
    "# The lower moisture boundary needs to be updated where there is the lake\n",
    "# Here, were set the moisture at the lower boundary from the grid cell 50\n",
    "# to 150 to a mixing ratio of 0.9 times the saturation mixing ratio\n",
    "q[0, lake_from:lake_to] = 0.95 * qsat[0, lake_from:lake_to] \n",
    "\n",
    "\n",
    "# Iterate over time\n",
    "for t in range(integration):\n",
    "    \n",
    "    # Also for fun!!! Variation in the global radiation\n",
    "    #if t==0:\n",
    "    #    G = 0\n",
    "    #else:\n",
    "    #    G = 700 * np.sin( (2*np.pi*t*dt)/84600 )\n",
    "        \n",
    "    # Loop over all x-cells and calculate the surface temperature\n",
    "    for x in range(T.shape[1]):\n",
    "        \n",
    "        # Keep the same temperature for the lake (no heating)\n",
    "        if (x>=lake_from) & (x<=lake_to):\n",
    "            T[0,x] = Tlake\n",
    "        else:\n",
    "            # Set the initial guess for the temperature optimization\n",
    "            T_0 = T[0,x]\n",
    "\n",
    "            #-----------------------------------\n",
    "            # Solve for the surface temperature\n",
    "            #-----------------------------------\n",
    "            # The 2m temperature and mixing ratio is taken from the \n",
    "            # boundary layer model (theta)\n",
    "            res = minimize(optim_T0,x0=T_0,args=(theta[1,x],q[1,x]/qsat[1,x],\n",
    "                    albedo[x],G,p,rho,U,z,z0),bounds=((None,400),), \\\n",
    "                    method='L-BFGS-B',options={'eps':1e-8})\n",
    "\n",
    "            # Assign optimized surface temperature to the temperature array\n",
    "            T[0,x] = res.x\n",
    "\n",
    "    #-------------------------\n",
    "    # Solve the heat equation\n",
    "    #-------------------------\n",
    "    T = heat_equation_time_2D(T, dz, dt)\n",
    "\n",
    "    #-------------------------\n",
    "    # Solve the BL model\n",
    "    #-------------------------\n",
    "    # First, set the surface temperature from the soil module\n",
    "    theta[0,:] = T[0,:]\n",
    "    theta, q, qsat, rH, cov, adv, c, d, xa, za = boundary_layer_evolution_moisture(theta=theta, \n",
    "        q=q, u=U, K=0.5, dx=dx, dz=dza, Nx=Nx, Nz=Nza, dt=dt)"
   ]
  },
  {
   "cell_type": "code",
   "execution_count": 8,
   "id": "40d22efd",
   "metadata": {},
   "outputs": [
    {
     "data": {
      "image/png": "[encoded data removed]",
      "text/plain": [
       "<Figure size 1296x360 with 2 Axes>"
      ]
     },
     "metadata": {
      "filenames": {
       "image/png": "/Users/tsauter/Library/Mobile Documents/com~apple~CloudDocs/HU/Teaching/Kurse_SS_2022/climate_modelling/_build/jupyter_execute/docs/solution_nb_final_model_14_0.png"
      },
      "needs_background": "light"
     },
     "output_type": "display_data"
    },
    {
     "data": {
      "image/png": "[encoded data removed]",
      "text/plain": [
       "<Figure size 1296x360 with 2 Axes>"
      ]
     },
     "metadata": {
      "filenames": {
       "image/png": "/Users/tsauter/Library/Mobile Documents/com~apple~CloudDocs/HU/Teaching/Kurse_SS_2022/climate_modelling/_build/jupyter_execute/docs/solution_nb_final_model_14_1.png"
      },
      "needs_background": "light"
     },
     "output_type": "display_data"
    },
    {
     "data": {
      "image/png": "[encoded data removed]",
      "text/plain": [
       "<Figure size 1296x360 with 2 Axes>"
      ]
     },
     "metadata": {
      "filenames": {
       "image/png": "/Users/tsauter/Library/Mobile Documents/com~apple~CloudDocs/HU/Teaching/Kurse_SS_2022/climate_modelling/_build/jupyter_execute/docs/solution_nb_final_model_14_2.png"
      },
      "needs_background": "light"
     },
     "output_type": "display_data"
    },
    {
     "data": {
      "image/png": "[encoded data removed]",
      "text/plain": [
       "<Figure size 1296x360 with 2 Axes>"
      ]
     },
     "metadata": {
      "filenames": {
       "image/png": "/Users/tsauter/Library/Mobile Documents/com~apple~CloudDocs/HU/Teaching/Kurse_SS_2022/climate_modelling/_build/jupyter_execute/docs/solution_nb_final_model_14_3.png"
      },
      "needs_background": "light"
     },
     "output_type": "display_data"
    },
    {
     "data": {
      "image/png": "[encoded data removed]",
      "text/plain": [
       "<Figure size 1296x360 with 2 Axes>"
      ]
     },
     "metadata": {
      "filenames": {
       "image/png": "/Users/tsauter/Library/Mobile Documents/com~apple~CloudDocs/HU/Teaching/Kurse_SS_2022/climate_modelling/_build/jupyter_execute/docs/solution_nb_final_model_14_4.png"
      },
      "needs_background": "light"
     },
     "output_type": "display_data"
    }
   ],
   "source": [
    "# Create 2D plot for the covariance\n",
    "ax = make_plot(theta, x=xa/1000, z=za, levels=11, title='Temperature', unit='K', \n",
    "               xlab='Distance [km]', zlab='Height [m]', cmap='RdBu_r')\n",
    "\n",
    "ax = make_plot(T, x=xa/1000, z=np.arange(0, -Nz*dz, -dz), levels=11, title='Soil temperature', unit='K', \n",
    "               xlab='Distance [km]', zlab='Height [m]', cmap='RdBu_r')\n",
    "\n",
    "# Create 2D plot for the covariance\n",
    "ax = make_plot(q, x=xa/1000, z=za, levels=11, title='Mixing ratio', unit='g kg$^{-1}$', \n",
    "               xlab='Distance [km]', zlab='Height [m]', cmap='YlGnBu')\n",
    "\n",
    "# Create 2D plot for the covariance\n",
    "ax = make_plot(qsat, x=xa/1000, z=za, levels=11, title='Saturation mixing ratio', unit='g kg$^{-1}$', \n",
    "               xlab='Distance [km]', zlab='Height [m]', cmap='YlGnBu')\n",
    "\n",
    "# Create 2D plot for the covariance\n",
    "ax = make_plot(rH*100, x=xa/1000, z=za, levels=11, title='Relative humidity', unit='%', \n",
    "               xlab='Distance [km]', zlab='Height [m]', cmap='YlGnBu')\n",
    "\n",
    "ax.contour(xa/1000, za, rH, levels=[0.95,1.0],colors='red');"
   ]
  },
  {
   "cell_type": "code",
   "execution_count": null,
   "id": "c124cd22",
   "metadata": {},
   "outputs": [],
   "source": []
  }
 ],
 "metadata": {
  "kernelspec": {
   "display_name": "Python 3 (ipykernel)",
   "language": "python",
   "name": "python3"
  },
  "language_info": {
   "codemirror_mode": {
    "name": "ipython",
    "version": 3
   },
   "file_extension": ".py",
   "mimetype": "text/x-python",
   "name": "python",
   "nbconvert_exporter": "python",
   "pygments_lexer": "ipython3",
   "version": "3.8.9"
  }
 },
 "nbformat": 4,
 "nbformat_minor": 5
}