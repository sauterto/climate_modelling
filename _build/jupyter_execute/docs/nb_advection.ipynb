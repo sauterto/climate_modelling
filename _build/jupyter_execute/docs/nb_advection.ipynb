{
 "cells": [
  {
   "cell_type": "markdown",
   "metadata": {
    "slideshow": {
     "slide_type": "slide"
    }
   },
   "source": [
    "(advection:exercises)=\n",
    "### Advection diffusion equation\n",
    "\n",
    "**Task 4**:Solve the Advection-Diffusion equation, with the following initial and boundary conditions: at t=0 , 𝑐_0=0; for all subsequent times, 𝑐=0 at x=0, 𝑐=1 at 𝑥=𝐿=1, 𝑢=1.0 and K=0.1. Integrate over 0.05 s with a Δ𝑡=0.0028. Plot the results and the dimensionless time scales. Increase gradually Δ𝑡 and analyse the results. Once you understand what is happening, set again Δ𝑡=0.0028 and gradually increase the wind speed. Discuss the results.\n"
   ]
  },
  {
   "cell_type": "code",
   "execution_count": 1,
   "metadata": {},
   "outputs": [],
   "source": [
    "import numpy as np\n",
    "import matplotlib.pyplot as plt\n",
    "import math\n",
    "\n",
    "%matplotlib inline\n",
    "\n",
    "\n",
    "def advection_diffusion(u, K, integration, dt, Nx):\n",
    "    \"\"\" Simple advection-diffusion equation.\n",
    "    \n",
    "    integration :: Integration time in seconds\n",
    "    Nx          :: Number of grid points\n",
    "    dt          :: time step in seconds\n",
    "    K           :: turbulent diffusivity\n",
    "    u           :: Speed of fluid\n",
    "    \"\"\"\n",
    "    \n",
    "    # Definitions and assignments\n",
    "    a   = 0.                # Left border\n",
    "    b   = 1.                # Right border\n",
    "    dx  = (b-a)/Nx          # Distance between grid points\n",
    "\n",
    "    # Define the boundary conditions\n",
    "    bc_l  = 1       # Left BC\n",
    "    bc_r  = 0       # Right BC\n",
    "\n",
    "    # Define index arrays \n",
    "    k   = np.arange(1,Nx-1)\n",
    "    kr  = np.arange(2,Nx)\n",
    "    kl  = np.arange(0,Nx-2)\n",
    "\n",
    "    # Initial quantity field\n",
    "    phi = np.zeros(Nx)\n",
    "                 \n",
    "    # Set boundary condiiton\n",
    "    phi[Nx-1] = bc_r\n",
    "    phi[0] = bc_l\n",
    "\n",
    "    # Dimensionless parameters\n",
    "    # CHANGE THE TWO LINES OF CODE HERE\n",
    "    c = None\n",
    "    d = None\n",
    "\n",
    "    # Time loop\n",
    "    t = 0\n",
    "\n",
    "    while t <= integration:\n",
    "        # Update flux\n",
    "        # ADD USER CODE HERE\n",
    "        \n",
    "        # Update time\n",
    "        t = t + dt    \n",
    "        \n",
    "    return(phi, dx, u, K, c, d)\n",
    "\n",
    "\n"
   ]
  },
  {
   "cell_type": "code",
   "execution_count": 2,
   "metadata": {},
   "outputs": [
    {
     "name": "stdout",
     "output_type": "stream",
     "text": [
      "dt (advection) <= 0.0075 s\n",
      "dt (diffusion) <= 0.0031 s\n",
      "\n"
     ]
    },
    {
     "data": {
      "image/png": "[encoded data removed]",
      "text/plain": [
       "<Figure size 864x360 with 1 Axes>"
      ]
     },
     "metadata": {
      "filenames": {
       "image/png": "/Users/tsauter/Library/Mobile Documents/com~apple~CloudDocs/HU/Teaching/Kurse_SS_2022/climate_modelling/_build/jupyter_execute/docs/nb_advection_2_1.png"
      },
      "needs_background": "light"
     },
     "output_type": "display_data"
    }
   ],
   "source": [
    "phi, dx, u, K, c, d = advection_diffusion(u=1.0, K=0.1, integration=0.05, dt=0.0028, Nx=40)\n",
    "\n",
    "print(\"dt (advection) <= {:.4f} s\".format((0.3*dx)/u))\n",
    "print(\"dt (diffusion) <= {:.4f} s\".format(((dx**2))/(2*K)))\n",
    "print('')       \n",
    "#print('Courant number (c): {:.4f} (C<1)'.format(c))\n",
    "#print('Characteristic diffusion time (d): {:.4f}'.format(d))\n",
    "\n",
    "plt.figure(figsize=(12,5))\n",
    "plt.plot(phi);\n",
    "plt.show()"
   ]
  },
  {
   "cell_type": "markdown",
   "metadata": {},
   "source": [
    "**Task 5**: Solve the Advection-Diffusion equation, with the following initial and boundary conditions: \n",
    "\n",
    "\\begin{align}\n",
    "c(n,0) &=exp^{\\left(-\\left(\\frac{(x-10)}{2}\\right)^2\\right)} \\\\\n",
    "c(0,t) &=0 \\\\\n",
    "c(L,t) &=\\frac{\\partial c}{\\partial x}=0\n",
    "\\end{align}\n",
    "\n",
    "Integrate the equation with K=0.1, u=1.0 over 0.05 s with a Δ𝑡=0.0028. Plot the results and the dimensionless time scales. Increase gradually Δ𝑡 and plot and analyse the results."
   ]
  },
  {
   "cell_type": "code",
   "execution_count": 3,
   "metadata": {},
   "outputs": [],
   "source": [
    "import numpy as np\n",
    "import matplotlib.pyplot as plt\n",
    "import math\n",
    "\n",
    "%matplotlib inline\n",
    "\n",
    "\n",
    "def advection_diffusion(u, K, integration, dt, Nx):\n",
    "    \"\"\" Simple advection-diffusion equation.\n",
    "    \n",
    "    integration :: Integration time in seconds\n",
    "    Nx          :: Number of grid points\n",
    "    dt          :: time step in seconds\n",
    "    K           :: turbulent diffusivity\n",
    "    u           :: Speed of fluid\n",
    "    \"\"\"\n",
    "    \n",
    "    # Definitions and assignments\n",
    "    a   = 0.                # Left border\n",
    "    b   = 1.                # Right border\n",
    "    dx  = (b-a)/Nx          # Distance between grid points\n",
    "\n",
    "    # Define the boundary conditions\n",
    "    bc_l  = 0       # Left BC\n",
    "    bc_r  = 0       # Right BC\n",
    "\n",
    "    # Define index arrays \n",
    "    k   = np.arange(1,Nx-1)\n",
    "    kr  = np.arange(2,Nx)\n",
    "    kl  = np.arange(0,Nx-2)\n",
    "\n",
    "    # Initial temperature field\n",
    "    # ADD USER CODE HERE\n",
    "                 \n",
    "    # Set boundary condiiton\n",
    "    phi[Nx-1] = bc_r\n",
    "    phi[0] = bc_l\n",
    "\n",
    "    # Dimensionless parameters\n",
    "    d = (K*dt)/(dx**2)\n",
    "    c = (u*dt)/dx\n",
    "\n",
    "    # Time loop\n",
    "    t = 0\n",
    "  \n",
    "    while t <= integration:\n",
    "        t = 999999999999\n",
    "    \n",
    "        # Set BC\n",
    "        # ADD USER CODE HERE\n",
    "        \n",
    "        # Update flux\n",
    "        # ADD USER CODE HERE\n",
    "\n",
    "        # Increate time\n",
    "        # ADD USER CODE HERE    \n",
    "        \n",
    "    return(phi, dx, u, K, c, d)\n",
    "\n",
    "\n",
    "\n"
   ]
  },
  {
   "cell_type": "code",
   "execution_count": 4,
   "metadata": {},
   "outputs": [
    {
     "name": "stdout",
     "output_type": "stream",
     "text": [
      "dt (advection) <= 0.0075 s\n",
      "dt (diffusion) <= 0.0031 s\n",
      "\n"
     ]
    },
    {
     "data": {
      "image/png": "[encoded data removed]",
      "text/plain": [
       "<Figure size 864x360 with 1 Axes>"
      ]
     },
     "metadata": {
      "filenames": {
       "image/png": "/Users/tsauter/Library/Mobile Documents/com~apple~CloudDocs/HU/Teaching/Kurse_SS_2022/climate_modelling/_build/jupyter_execute/docs/nb_advection_5_1.png"
      },
      "needs_background": "light"
     },
     "output_type": "display_data"
    }
   ],
   "source": [
    "phi, dx, u, K, c, d = advection_diffusion(u=1.0, K=0.1, integration=0.05, dt=0.0028, Nx=40)\n",
    "\n",
    "print(\"dt (advection) <= {:.4f} s\".format((0.3*dx)/u))\n",
    "print(\"dt (diffusion) <= {:.4f} s\".format(((dx**2))/(2*K)))\n",
    "print('')       \n",
    "#print('Courant number (c): {:.4f} (C<1)'.format(c))\n",
    "#print('Characteristic diffusion time (d): {:.4f}'.format(d))\n",
    "\n",
    "plt.figure(figsize=(12,5))\n",
    "plt.plot(phi);\n",
    "plt.show()"
   ]
  },
  {
   "cell_type": "code",
   "execution_count": 5,
   "metadata": {},
   "outputs": [],
   "source": [
    "# Make plots\n",
    "# ADD USER CODE HERE"
   ]
  },
  {
   "cell_type": "markdown",
   "metadata": {},
   "source": [
    "**Task 6**: Boundary layer evolution"
   ]
  },
  {
   "cell_type": "code",
   "execution_count": 6,
   "metadata": {},
   "outputs": [],
   "source": [
    "import random\n",
    "\n",
    "def boundary_layer(w, K, integration, dt, Nz, H):\n",
    "    \"\"\" Simple advection-diffusion equation.\n",
    "    \n",
    "    integration :: Integration time in seconds\n",
    "    Nz          :: Number of grid points\n",
    "    dt          :: time step in seconds\n",
    "    K           :: turbulent diffusivity\n",
    "    u           :: Speed of fluid\n",
    "    \"\"\"\n",
    "    \n",
    "    # Definitions and assignments\n",
    "    a   = 0.                # Left border\n",
    "    b   = H                 # Right border\n",
    "    dz  = (b-a)/Nz          # Distance between grid points\n",
    "\n",
    "    # Define the boundary conditions\n",
    "    bc_t  = 0       # top BC\n",
    "    bc_b  = 0       # bottom BC\n",
    "\n",
    "    # Define index arrays \n",
    "    k   = np.arange(1,Nz-1)\n",
    "    kr  = np.arange(2,Nz)\n",
    "    kl  = np.arange(0,Nz-2)\n",
    "\n",
    "    # Initial temperature field\n",
    "    # ADD USER CODE HERE)\n",
    "    theta_all = None \n",
    "    cov_all = None \n",
    "    \n",
    "    # Dimensionless parameters\n",
    "    d = (K*dt)/(dz**2)\n",
    "    c = (w*dt)/dz\n",
    "    \n",
    "    t = 0\n",
    "    \n",
    "    for idx in range(int(integration/dt)):\n",
    "        \n",
    "        # Set BC top\n",
    "        # ADD USER CODE HERE\n",
    "        \n",
    "        # Set BC surface\n",
    "        # ADD USER CODE HERE\n",
    "        \n",
    "        # Update flux\n",
    "        # ADD USER CODE HERE\n",
    "\n",
    "        # Update time\n",
    "        t = t + dt\n",
    "        \n",
    "    return(theta_all, cov_all, dz, u, K, c, d)\n",
    "\n"
   ]
  },
  {
   "cell_type": "code",
   "execution_count": 7,
   "metadata": {},
   "outputs": [],
   "source": [
    "Nz = 200\n",
    "H = 500\n",
    "integration = 86400*3\n",
    "dt = 1\n",
    "\n",
    "theta, cov, dx, u, K, c, d = boundary_layer(w=-0.001, K=0.5, integration=integration, dt=dt, Nz=Nz, H=H)\n",
    "\n",
    "# Create 2D mesh grid\n",
    "# First create the y-axis values\n",
    "y = np.linspace(0, H, Nz)\n",
    "# then the x-axis values\n",
    "x = np.arange(integration/dt)\n",
    "# use the arrays to create a 2D-mesh\n",
    "X, Y = np.meshgrid(x, y)\n",
    "\n",
    "# Plot results on the mesh\n",
    "# UNCOMMENT FOLLOWING LINES\n",
    "#plt.figure(figsize=(12,5))\n",
    "#plt.contourf(X,Y,theta[:],10,origin='lower');\n",
    "#plt.colorbar()\n"
   ]
  },
  {
   "cell_type": "code",
   "execution_count": 8,
   "metadata": {},
   "outputs": [],
   "source": [
    "# Plot results on the mesh\n",
    "# UNCOMMENT FOLLOWING LINES\n",
    "#plt.figure(figsize=(12,5))\n",
    "#plt.contourf(X,Y,cov[:],10,origin='lower',levels=np.linspace(-0.1, 0.1, 21),cmap='RdBu_r');\n",
    "#plt.colorbar();"
   ]
  },
  {
   "cell_type": "code",
   "execution_count": null,
   "metadata": {},
   "outputs": [],
   "source": []
  }
 ],
 "metadata": {
  "kernelspec": {
   "display_name": "Python 3 (ipykernel)",
   "language": "python",
   "name": "python3"
  },
  "language_info": {
   "codemirror_mode": {
    "name": "ipython",
    "version": 3
   },
   "file_extension": ".py",
   "mimetype": "text/x-python",
   "name": "python",
   "nbconvert_exporter": "python",
   "pygments_lexer": "ipython3",
   "version": "3.8.9"
  }
 },
 "nbformat": 4,
 "nbformat_minor": 1
}