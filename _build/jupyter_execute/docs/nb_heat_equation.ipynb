{
 "cells": [
  {
   "cell_type": "markdown",
   "metadata": {
    "slideshow": {
     "slide_type": "slide"
    }
   },
   "source": [
    "(heat_equation:exercises)=\n",
    "### Heat Equation\n",
    "\n",
    "Integrate the heat equation for several days using a time step of 1 hour and a heat conductivity of  𝜈_𝑔 = 1.2e-6 [m2 s-1 ]. Plot the result. Once the code works, change the integration time. What happens if you integrate over a very long time?"
   ]
  },
  {
   "cell_type": "code",
   "execution_count": 1,
   "metadata": {},
   "outputs": [],
   "source": [
    "import numpy as np\n",
    "import matplotlib.pyplot as plt\n",
    "import math\n",
    "\n",
    "\n",
    "def heat_equation(bc_surface, bc_bottom, depth, Nz, integration, dt):\n",
    "    ''' Solves the heat equation\n",
    "    bc_surface :: boundary condition at the surface\n",
    "    bc_bottom  :: boundary condition at the bottom\n",
    "    depth      :: depth of the domain [m]\n",
    "    Nz         :: number of grid points\n",
    "    integration:: number of iterations\n",
    "    dt         :: time step [s]\n",
    "    '''\n",
    "\n",
    "    # Definitions\n",
    "    dz    = depth/Nz  # Distance between grid points\n",
    "    alpha = 1.2e-6    # Conductivity\n",
    "\n",
    "    # Initialize temperature and depth field\n",
    "    T = np.zeros(Nz)\n",
    "\n",
    "    T[0] = bc_surface  # Set pen-ultima array to bc value (because the last grid cell\n",
    "                          # is required to calculate the second order derivative)\n",
    "    T[Nz-1] = bc_bottom      # Set the first elemnt to the bottom value\n",
    "\n",
    "    # Create the solution vector for new timestep (we need to store the temperature values\n",
    "    # at the old time step)    \n",
    "    Tnew = T.copy()\n",
    "\n",
    "    # Loop over all times\n",
    "    for t in range(integration):\n",
    "        pass\n",
    "        # Loop over all grid points\n",
    "        # ADD USER CODE HERE\n",
    "\n",
    "        # Update old temperature array\n",
    "        # ADD USER CODE HERE\n",
    "\n",
    "        # Neumann boundary condition\n",
    "        # ADD USER CODE HERE\n",
    "\n",
    "    # return vertical temperature profile and grid spacing\n",
    "    return T, dz\n",
    "\n",
    "\n",
    "\n"
   ]
  },
  {
   "cell_type": "code",
   "execution_count": 2,
   "metadata": {},
   "outputs": [
    {
     "data": {
      "image/png": "[encoded data removed]",
      "text/plain": [
       "<Figure size 864x864 with 4 Axes>"
      ]
     },
     "metadata": {
      "filenames": {
       "image/png": "/Users/tsauter/Library/Mobile Documents/com~apple~CloudDocs/HU/Teaching/Kurse_SS_2022/climate_modelling/_build/jupyter_execute/docs/nb_heat_equation_2_0.png"
      },
      "needs_background": "light"
     },
     "output_type": "display_data"
    }
   ],
   "source": [
    "# Plot results\n",
    "fig, ax = plt.subplots(2,2,figsize=(12,12))\n",
    "\n",
    "Nz = 100\n",
    "T, dz = heat_equation(20, 0, 5, Nz, 24, 3600)\n",
    "ax[0,0].plot(T,-dz*np.arange(Nz));\n",
    "ax[0,0].set_xlabel('Temperature [ºC]')\n",
    "ax[0,0].set_ylabel('Depth [m]')\n",
    "\n",
    "T, dz = heat_equation(20, 0, 5, Nz, 24*14, 3600)\n",
    "ax[0,1].plot(T,-dz*np.arange(Nz));\n",
    "ax[0,1].set_xlabel('Temperature [ºC]')\n",
    "ax[0,1].set_ylabel('Depth [m]')\n",
    "\n",
    "T, dz = heat_equation(20, 0, 5, Nz, 24*30, 3600)\n",
    "ax[1,0].plot(T,-dz*np.arange(Nz));\n",
    "ax[1,0].set_xlabel('Temperature [ºC]')\n",
    "ax[1,0].set_ylabel('Depth [m]')\n",
    "\n",
    "T, dz = heat_equation(20, 0, 5, Nz, 24*365, 3600)\n",
    "ax[1,1].plot(T,-dz*np.arange(Nz));\n",
    "ax[1,1].set_xlabel('Temperature [ºC]')\n",
    "ax[1,1].set_ylabel('Depth [m]')\n",
    "\n",
    "plt.show()"
   ]
  },
  {
   "cell_type": "markdown",
   "metadata": {},
   "source": [
    "### Heat equation with index arrays"
   ]
  },
  {
   "cell_type": "code",
   "execution_count": 3,
   "metadata": {},
   "outputs": [],
   "source": [
    "%matplotlib inline\n",
    "\n",
    "import numpy as np\n",
    "import matplotlib.pyplot as plt\n",
    "import math\n",
    "\n",
    "\n",
    "def heat_equation_indices(bc_surface, bc_bottom, depth, Nz, integration, dt):\n",
    "    ''' Solves the heat equation using index arrays\n",
    "    bc_surface :: boundary condition at the surface\n",
    "    bc_bottom  :: boundary condition at the bottom\n",
    "    depth      :: depth of the domain [m]\n",
    "    Nz         :: number of grid points\n",
    "    integration:: number of iterations\n",
    "    dt         :: time step [s]\n",
    "    '''\n",
    "\n",
    "    # Definitions\n",
    "    dz    = depth/Nz # Distance between grid points\n",
    "    alpha = 1.2e-6   # Conductivity\n",
    "\n",
    "    # Define index arrays \n",
    "    # ADD USER CODE HERE\n",
    "\n",
    "\n",
    "    # Initialize temperature and depth field\n",
    "    T = np.zeros(Nz)\n",
    "\n",
    "    T[0] = bc_surface     # Set pen-ultima array to bc value (because the last grid cell\n",
    "                          # is required to calculate the second order derivative)\n",
    "    T[Nz-1] = bc_bottom   # Set the first elemnt to the bottom value\n",
    "\n",
    "    # Create the solution vector for new timestep (we need to store the temperature values\n",
    "    # at the old time step)    \n",
    "    Tnew = T.copy()\n",
    "\n",
    "    # Loop over all times\n",
    "    for t in range(integration):\n",
    "        pass\n",
    "    \n",
    "        # ADD USER CODE HERE\n",
    "        # Update temperature\n",
    "\n",
    "        # Update old temperature array\n",
    "        # ADD USER CODE HERE\n",
    "    \n",
    "        # Neumann boundary condition\n",
    "        # ADD USER CODE HERE\n",
    "\n",
    "    # return vertical temperature profile and grid spacing\n",
    "    return T, dz\n",
    "\n",
    "\n",
    "\n",
    "\n"
   ]
  },
  {
   "cell_type": "code",
   "execution_count": 4,
   "metadata": {},
   "outputs": [
    {
     "data": {
      "image/png": "[encoded data removed]",
      "text/plain": [
       "<Figure size 864x864 with 4 Axes>"
      ]
     },
     "metadata": {
      "filenames": {
       "image/png": "/Users/tsauter/Library/Mobile Documents/com~apple~CloudDocs/HU/Teaching/Kurse_SS_2022/climate_modelling/_build/jupyter_execute/docs/nb_heat_equation_5_0.png"
      },
      "needs_background": "light"
     },
     "output_type": "display_data"
    }
   ],
   "source": [
    "\n",
    "# Plot results\n",
    "fig, ax = plt.subplots(2,2,figsize=(12,12))\n",
    "\n",
    "Nz = 100\n",
    "T, dz = heat_equation_indices(20, 0, 5, Nz, 24, 3600)\n",
    "ax[0,0].plot(T,-dz*np.arange(Nz));\n",
    "ax[0,0].set_xlabel('Temperature [ºC]')\n",
    "ax[0,0].set_ylabel('Depth [m]')\n",
    "\n",
    "T, dz = heat_equation_indices(20, 0, 5, Nz, 24*14, 3600)\n",
    "ax[0,1].plot(T,-dz*np.arange(Nz));\n",
    "ax[0,1].set_xlabel('Temperature [ºC]')\n",
    "ax[0,1].set_ylabel('Depth [m]')\n",
    "\n",
    "T, dz = heat_equation_indices(20, 0, 5, Nz, 24*30, 3600)\n",
    "ax[1,0].plot(T,-dz*np.arange(Nz));\n",
    "ax[1,0].set_xlabel('Temperature [ºC]')\n",
    "ax[1,0].set_ylabel('Depth [m]')\n",
    "\n",
    "T, dz = heat_equation_indices(20, 0, 5, Nz, 24*365, 3600)\n",
    "ax[1,1].plot(T,-dz*np.arange(Nz));\n",
    "ax[1,1].set_xlabel('Temperature [ºC]')\n",
    "ax[1,1].set_ylabel('Depth [m]')\n",
    "\n",
    "plt.show()"
   ]
  },
  {
   "cell_type": "markdown",
   "metadata": {},
   "source": [
    "### Time-dependent heat equation\n",
    "\n",
    "Using the previous code, solve the Heat Equation using a temporal varying surface boundary condition. Use the following discretization: I = [0; 20 m], N = 40 grid points, 𝜈_𝑔 = 1.2e-6 [m2 s-1 ], and a daily time step. Integrate the equation for several years, e.g. 5 years. Plot the result as a contour plot. Also plot temperature time series in several depths. Discuss the plot!\n"
   ]
  },
  {
   "cell_type": "code",
   "execution_count": 5,
   "metadata": {},
   "outputs": [],
   "source": [
    "import numpy as np\n",
    "import matplotlib.pyplot as plt\n",
    "import math\n",
    "\n",
    "\n",
    "def heat_equation_time(depth, Nz, years):\n",
    "    \"\"\" This is an example of an time-dependent heat equation using a \n",
    "    sinus wave temperature signal at the surface. The heat equation is solved for a \n",
    "    pre-defined number of years over the domain depth using Nz grid points.\"\"\"\n",
    "\n",
    "    # Definitions and assignments\n",
    "    integration = 365*years    # Integration time in days\n",
    "    dz  = depth/Nz             # Distance between grid points\n",
    "    dt  = 86400                # Time step in seconds (for each day)\n",
    "    K   = 1.2e-6               # Conductivity\n",
    " \n",
    "    # Define index arrays \n",
    "    k  = np.arange(1,Nz-1)  # all indices at location i\n",
    "    kr  = np.arange(2,Nz)   # all indices at location i+1\n",
    "    kl  = np.arange(0,Nz-2) # all indices at location i-1\n",
    "\n",
    "    # Initial temperature field\n",
    "    T = np.zeros(Nz)\n",
    "\n",
    "    # Create array for new temperature values\n",
    "    Tnew = T\n",
    "\n",
    "    # 2D-Array containing the vertical profiles for all time steps (depth, time)\n",
    "    T_all = np.zeros((Nz,integration))\n",
    "\n",
    "    \n",
    "    # Time loop\n",
    "    for t in range(integration):\n",
    "        pass\n",
    "    \n",
    "        # Set top BC - Dirlichet condition\n",
    "        # ADD USER CODE HERE\n",
    "\n",
    "        # Set lower BC - Neumann condition\n",
    "        # ADD USER CODE HERE\n",
    "        \n",
    "        # Update temperature using indices arrays\n",
    "        # ADD USER CODE HERE\n",
    "        \n",
    "        # Copy the new temperature als old timestep values (used for the \n",
    "        # next time loop step)\n",
    "        # ADD USER CODE HERE\n",
    "\n",
    "        # Write result into the final array\n",
    "        # ADD USER CODE HERE\n",
    "\n",
    "\n",
    "    # return temperature array, grid spacing, and number of integration steps\n",
    "    return T_all, dz, integration\n",
    "\n",
    "\n"
   ]
  },
  {
   "cell_type": "code",
   "execution_count": 6,
   "metadata": {},
   "outputs": [
    {
     "data": {
      "image/png": "[encoded data removed]",
      "text/plain": [
       "<Figure size 864x360 with 2 Axes>"
      ]
     },
     "metadata": {
      "filenames": {
       "image/png": "/Users/tsauter/Library/Mobile Documents/com~apple~CloudDocs/HU/Teaching/Kurse_SS_2022/climate_modelling/_build/jupyter_execute/docs/nb_heat_equation_8_0.png"
      },
      "needs_background": "light"
     },
     "output_type": "display_data"
    }
   ],
   "source": [
    "# Solve the heat equation\n",
    "T_all, dz, integration = heat_equation_time(20, 40, 5)\n",
    "\n",
    "# Create 2D mesh grid\n",
    "# First create the y-axis values\n",
    "y = np.arange(-20,0,dz)\n",
    "# then the x-axis values\n",
    "x = np.arange(integration)\n",
    "# use the arrays to create a 2D-mesh\n",
    "X, Y = np.meshgrid(x, y)\n",
    "\n",
    "# Plot results on the mesh\n",
    "plt.figure(figsize=(12,5))\n",
    "plt.contourf(X,Y,T_all[::-1],25,origin='lower');\n",
    "\n",
    "# Axis labels\n",
    "plt.xlabel('Days')\n",
    "plt.ylabel('Depth [m]')\n",
    "plt.colorbar();"
   ]
  },
  {
   "cell_type": "code",
   "execution_count": 7,
   "metadata": {},
   "outputs": [
    {
     "data": {
      "image/png": "[encoded data removed]",
      "text/plain": [
       "<Figure size 864x360 with 1 Axes>"
      ]
     },
     "metadata": {
      "filenames": {
       "image/png": "/Users/tsauter/Library/Mobile Documents/com~apple~CloudDocs/HU/Teaching/Kurse_SS_2022/climate_modelling/_build/jupyter_execute/docs/nb_heat_equation_9_0.png"
      },
      "needs_background": "light"
     },
     "output_type": "display_data"
    }
   ],
   "source": [
    "# Plot temperature in several depths\n",
    "plt.figure(figsize=(12,5))\n",
    "plt.plot(T_all[0,:]);\n",
    "plt.plot(T_all[10,:]);\n",
    "plt.plot(T_all[20,:]);"
   ]
  }
 ],
 "metadata": {
  "kernelspec": {
   "display_name": "Python 3 (ipykernel)",
   "language": "python",
   "name": "python3"
  },
  "language_info": {
   "codemirror_mode": {
    "name": "ipython",
    "version": 3
   },
   "file_extension": ".py",
   "mimetype": "text/x-python",
   "name": "python",
   "nbconvert_exporter": "python",
   "pygments_lexer": "ipython3",
   "version": "3.8.9"
  }
 },
 "nbformat": 4,
 "nbformat_minor": 1
}