{
 "cells": [
  {
   "cell_type": "markdown",
   "id": "c2fb55d1",
   "metadata": {},
   "source": [
    "(greenhouse:solution)=\n",
    "# Greenhouse model"
   ]
  },
  {
   "cell_type": "markdown",
   "id": "bb74f0eb",
   "metadata": {},
   "source": [
    "**Task 1**: Plug Eq. (7) into Eq. (6) and solve for the radiative equilibrium suface temperature $T_e$ "
   ]
  },
  {
   "cell_type": "code",
   "execution_count": 1,
   "id": "217ec79c",
   "metadata": {},
   "outputs": [
    {
     "name": "stdout",
     "output_type": "stream",
     "text": [
      "Radiative equilibrium temperature: 254.91\n"
     ]
    }
   ],
   "source": [
    "# Solve for the radiative equilibrium temperature\n",
    "\n",
    "sigma = 5.67e-8 # W m^-2 K^-4 \n",
    "Q = 342         # Incoming shortwave radiation W m^-2\n",
    "albedo = 0.3    # Albedo\n",
    "\n",
    "Te = (((1-0.3)*342)/5.67e-8)**(1/4)\n",
    "\n",
    "print('Radiative equilibrium temperature: {:.2f}'.format(Te))"
   ]
  },
  {
   "cell_type": "markdown",
   "id": "1866adcd",
   "metadata": {},
   "source": [
    "**Task 2**: What is the surface temperature with the single layer model? "
   ]
  },
  {
   "cell_type": "code",
   "execution_count": 2,
   "id": "55eceb48",
   "metadata": {},
   "outputs": [
    {
     "name": "stdout",
     "output_type": "stream",
     "text": [
      "Surface temperature: 303.14\n"
     ]
    }
   ],
   "source": [
    "# Solve for the atmospheric surface temperature\n",
    "\n",
    "# Calc surface temperature\n",
    "Ts = 2**(1/4) * Te\n",
    "print('Surface temperature: {:.2f}'.format(Ts))"
   ]
  },
  {
   "cell_type": "markdown",
   "id": "355993ad",
   "metadata": {},
   "source": [
    "Why does the model overestimate the surface temperature?"
   ]
  },
  {
   "cell_type": "markdown",
   "id": "6f64ed6e",
   "metadata": {},
   "source": [
    "**Task 4**: Write a Python function for $OLR = U_2 = (1-\\epsilon)^2 \\sigma T_s^4 + \\epsilon(1-\\epsilon)\\sigma T_0^4 + \\epsilon \\sigma T_1^4$"
   ]
  },
  {
   "cell_type": "code",
   "execution_count": 3,
   "id": "e17d7889",
   "metadata": {},
   "outputs": [],
   "source": [
    "def two_layer_model(Ts, T0, T1, epsilon):\n",
    "    return ((1-epsilon)**2)*sigma*Ts**4 + epsilon*(1-epsilon)*sigma*T0**4 + epsilon*sigma*T1**4"
   ]
  },
  {
   "cell_type": "markdown",
   "id": "c31ad12d",
   "metadata": {},
   "source": [
    "**Task 6**: We will tune our model so that it reproduces the observed global mean OLR given observed global mean temperatures. Determine the temperatures for the two-layer model from the following sounding"
   ]
  },
  {
   "cell_type": "markdown",
   "id": "c4ecf228",
   "metadata": {},
   "source": [
    "![alt text](pics/vertical_profile.png \"Sounding\")"
   ]
  },
  {
   "cell_type": "markdown",
   "id": "8ca1797f",
   "metadata": {},
   "source": [
    "**Task 7**: Find graphically the best fit value of $\\epsilon$\n"
   ]
  },
  {
   "cell_type": "code",
   "execution_count": 4,
   "id": "443de545",
   "metadata": {},
   "outputs": [
    {
     "name": "stdout",
     "output_type": "stream",
     "text": [
      "The optimized transmissivity is: 0.59\n"
     ]
    },
    {
     "data": {
      "image/png": "[encoded data removed]",
      "text/plain": [
       "<Figure size 1080x576 with 1 Axes>"
      ]
     },
     "metadata": {
      "filenames": {
       "image/png": "/Users/tsauter/Library/Mobile Documents/com~apple~CloudDocs/HU/Teaching/Kurse_SS_2022/climate_modelling/_build/jupyter_execute/docs/solution_nb_greenhouse_11_1.png"
      },
      "needs_background": "light"
     },
     "output_type": "display_data"
    }
   ],
   "source": [
    "import numpy as np\n",
    "import matplotlib.pyplot as plt\n",
    "\n",
    "OLR = []        # initialize array\n",
    "epsilons = []   # initialize array\n",
    "OLR_obs = 238.5 # observed outgoing long-wave radiation\n",
    "\n",
    "# Auxiliary function to find index of closest value \n",
    "def find_nearest(array, value):\n",
    "    idx,val = min(enumerate(array), key=lambda x: abs(x[1]-value))\n",
    "    return idx\n",
    "\n",
    "# Optimize epsilon\n",
    "for eps in np.arange(0, 1, 0.01):\n",
    "    OLR.append(OLR_obs - two_layer_model(288, 275, 230, eps))\n",
    "    epsilons.append(eps)\n",
    "\n",
    "# Find the closest value to the observed OLR\n",
    "idx = find_nearest(OLR, 0)\n",
    "\n",
    "# Save the optimized epsilon\n",
    "epsilon = epsilons[idx]\n",
    "\n",
    "# Plot the results\n",
    "print('The optimized transmissivity is: {:.2f}'.format(epsilons[idx]))\n",
    "plt.figure(figsize=(15,8))\n",
    "plt.plot(epsilons,OLR);\n",
    "plt.scatter(epsilons[idx], OLR[idx], s=50,  color='r')\n",
    "plt.hlines(0,0,1,linestyles='dotted',color='gray');\n",
    "    "
   ]
  },
  {
   "cell_type": "code",
   "execution_count": 5,
   "id": "df7658e0",
   "metadata": {},
   "outputs": [
    {
     "name": "stdout",
     "output_type": "stream",
     "text": [
      "The modelled OLR is 237.63, while the observed value is 238.5\n"
     ]
    }
   ],
   "source": [
    "# Validate the result\n",
    "print('The modelled OLR is {:.2f}, while the observed value is 238.5'.format(two_layer_model(288, 275, 230, epsilon)))"
   ]
  },
  {
   "cell_type": "markdown",
   "id": "274ebcab",
   "metadata": {},
   "source": [
    "**Task 8**: Write a Python function to calculate each term in the OLR. Plug-in the observed temperatures and the tuned value for epsilon."
   ]
  },
  {
   "cell_type": "code",
   "execution_count": 6,
   "id": "ce7034f2",
   "metadata": {},
   "outputs": [],
   "source": [
    "def two_layer_terms(Ts, T0, T1, epsilon):\n",
    "    return ( ((1-epsilon)**2)*sigma*Ts**4, epsilon*(1-epsilon)*sigma*T0**4, epsilon*sigma*T1**4)"
   ]
  },
  {
   "cell_type": "code",
   "execution_count": 7,
   "id": "e4c7a227",
   "metadata": {},
   "outputs": [
    {
     "name": "stdout",
     "output_type": "stream",
     "text": [
      "Term 1: 65.57 \n",
      "Term 2: 78.44 \n",
      "Term 3: 93.62 \n",
      "Total: 237.63\n"
     ]
    }
   ],
   "source": [
    "term1, term2, term3 = two_layer_terms(288, 275, 230, epsilon)\n",
    "print('Term 1: {:.2f} \\nTerm 2: {:.2f} \\nTerm 3: {:.2f} \\nTotal: {:.2f}'.format(term1, term2, term3, term1+term2+term3))"
   ]
  },
  {
   "cell_type": "markdown",
   "id": "468d2b55",
   "metadata": {},
   "source": [
    "**Task 9**: Changing the level of emission by adding absorbers, e.g. by 10 %. \n",
    "Suppose further that this increase happens abruptly so that there is no time for the temperatures to respond to this change. We hold the temperatures fixed in the column and ask how the radiative fluxes change.\n",
    "\n",
    "Which terms in the OLR go up and which go down?"
   ]
  },
  {
   "cell_type": "code",
   "execution_count": 8,
   "id": "ec0946f4",
   "metadata": {},
   "outputs": [
    {
     "name": "stdout",
     "output_type": "stream",
     "text": [
      "Term 1: 37.49 \n",
      "Term 2: 69.36 \n",
      "Term 3: 109.48\n",
      "Total: 216.33\n"
     ]
    }
   ],
   "source": [
    "term1, term2, term3 = two_layer_terms(288, 275, 230, epsilon+0.1)\n",
    "print('Term 1: {:.2f} \\nTerm 2: {:.2f} \\nTerm 3: {:.2f}\\nTotal: {:.2f}'.format(term1, term2, term3, term1+term2+term3))"
   ]
  },
  {
   "cell_type": "markdown",
   "id": "fb75e928",
   "metadata": {},
   "source": [
    "**Task 10**: Calculate the radiative forcing for the previous simulation"
   ]
  },
  {
   "cell_type": "code",
   "execution_count": 9,
   "id": "c1eed0e3",
   "metadata": {},
   "outputs": [
    {
     "name": "stdout",
     "output_type": "stream",
     "text": [
      "RS: 28.09\n",
      "R0: 9.08\n",
      "R1: -15.87\n",
      "R: 21.30\n"
     ]
    }
   ],
   "source": [
    "term1, term2, term3 = two_layer_terms(288, 275, 230, epsilon)\n",
    "term1p, term2p, term3p = two_layer_terms(288, 275, 230, epsilon+0.1)\n",
    "\n",
    "print('RS: {:.2f}'.format(-(term1p-term1)))\n",
    "print('R0: {:.2f}'.format(-(term2p-term2)))\n",
    "print('R1: {:.2f}'.format(-(term3p-term3)))\n",
    "print('R: {:.2f}'.format(-(term1p-term1)-(term2p-term2)-(term3p-term3)))"
   ]
  },
  {
   "cell_type": "markdown",
   "id": "808791fc",
   "metadata": {},
   "source": [
    "**Task 11**: What is the greenhouse effect for an isothermal atmosphere?"
   ]
  },
  {
   "cell_type": "code",
   "execution_count": 10,
   "id": "228fb83d",
   "metadata": {},
   "outputs": [
    {
     "name": "stdout",
     "output_type": "stream",
     "text": [
      "RS: 28.09\n",
      "R0: 10.92\n",
      "R1: -39.01\n",
      "R: -0.00\n"
     ]
    }
   ],
   "source": [
    "term1, term2, term3 = two_layer_terms(288, 288, 288, epsilon)\n",
    "term1p, term2p, term3p = two_layer_terms(288, 288, 288, epsilon+0.1)\n",
    "\n",
    "print('RS: {:.2f}'.format(-(term1p-term1)))\n",
    "print('R0: {:.2f}'.format(-(term2p-term2)))\n",
    "print('R1: {:.2f}'.format(-(term3p-term3)))\n",
    "print('R: {:.2f}'.format(-(term1p-term1)-(term2p-term2)-(term3p-term3)))"
   ]
  },
  {
   "cell_type": "markdown",
   "id": "6abd7541",
   "metadata": {},
   "source": [
    "**Task 12**: For a more realistic example of radiative forcing due to an increase in greenhouse absorbers, we use our observed temperatures and the tuned value for epsilon. Assume an increase of epsilon by 2 %."
   ]
  },
  {
   "cell_type": "code",
   "execution_count": 11,
   "id": "7f538d06",
   "metadata": {},
   "outputs": [
    {
     "name": "stdout",
     "output_type": "stream",
     "text": [
      "0.0118\n",
      "RS: 3.72\n",
      "R0: 0.73\n",
      "R1: -1.87\n",
      "R: 2.58\n"
     ]
    }
   ],
   "source": [
    "depsilon = epsilon * 0.02\n",
    "print(depsilon)\n",
    "\n",
    "term1, term2, term3 = two_layer_terms(288, 275, 230, epsilon)\n",
    "term1p, term2p, term3p = two_layer_terms(288, 275, 230, epsilon+depsilon)\n",
    "\n",
    "print('RS: {:.2f}'.format(-(term1p-term1)))\n",
    "print('R0: {:.2f}'.format(-(term2p-term2)))\n",
    "print('R1: {:.2f}'.format(-(term3p-term3)))\n",
    "print('R: {:.2f}'.format(-(term1p-term1)-(term2p-term2)-(term3p-term3)))"
   ]
  }
 ],
 "metadata": {
  "kernelspec": {
   "display_name": "Python 3 (ipykernel)",
   "language": "python",
   "name": "python3"
  },
  "language_info": {
   "codemirror_mode": {
    "name": "ipython",
    "version": 3
   },
   "file_extension": ".py",
   "mimetype": "text/x-python",
   "name": "python",
   "nbconvert_exporter": "python",
   "pygments_lexer": "ipython3",
   "version": "3.7.0"
  }
 },
 "nbformat": 4,
 "nbformat_minor": 5
}