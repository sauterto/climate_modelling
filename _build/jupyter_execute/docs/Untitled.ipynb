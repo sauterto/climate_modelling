{
 "cells": [
  {
   "cell_type": "code",
   "execution_count": 1,
   "id": "a9bb1a9b",
   "metadata": {},
   "outputs": [
    {
     "ename": "NameError",
     "evalue": "name 'u2' is not defined",
     "output_type": "error",
     "traceback": [
      "\u001b[0;31m---------------------------------------------------------------------------\u001b[0m",
      "\u001b[0;31mNameError\u001b[0m                                 Traceback (most recent call last)",
      "\u001b[0;32m/var/folders/tt/q4k5594x1tz82j1yrmtkdw080000gn/T/ipykernel_4459/2502441394.py\u001b[0m in \u001b[0;36m<module>\u001b[0;34m\u001b[0m\n\u001b[1;32m     25\u001b[0m \u001b[0;31m#u2 = [C*np.exp(-z*lam2)*np.sin(-z*lam2) for z in np.arange(0,zmax,0.5)]\u001b[0m\u001b[0;34m\u001b[0m\u001b[0;34m\u001b[0m\u001b[0m\n\u001b[1;32m     26\u001b[0m \u001b[0;34m\u001b[0m\u001b[0m\n\u001b[0;32m---> 27\u001b[0;31m \u001b[0mprint\u001b[0m\u001b[0;34m(\u001b[0m\u001b[0mnp\u001b[0m\u001b[0;34m.\u001b[0m\u001b[0mmax\u001b[0m\u001b[0;34m(\u001b[0m\u001b[0mnp\u001b[0m\u001b[0;34m.\u001b[0m\u001b[0marray\u001b[0m\u001b[0;34m(\u001b[0m\u001b[0mu1\u001b[0m\u001b[0;34m)\u001b[0m\u001b[0;34m-\u001b[0m\u001b[0mnp\u001b[0m\u001b[0;34m.\u001b[0m\u001b[0marray\u001b[0m\u001b[0;34m(\u001b[0m\u001b[0mu2\u001b[0m\u001b[0;34m)\u001b[0m\u001b[0;34m)\u001b[0m\u001b[0;34m)\u001b[0m\u001b[0;34m\u001b[0m\u001b[0m\n\u001b[0m\u001b[1;32m     28\u001b[0m \u001b[0mprint\u001b[0m\u001b[0;34m(\u001b[0m\u001b[0mnp\u001b[0m\u001b[0;34m.\u001b[0m\u001b[0mmax\u001b[0m\u001b[0;34m(\u001b[0m\u001b[0mnp\u001b[0m\u001b[0;34m.\u001b[0m\u001b[0marray\u001b[0m\u001b[0;34m(\u001b[0m\u001b[0mtheta1\u001b[0m\u001b[0;34m)\u001b[0m\u001b[0;34m-\u001b[0m\u001b[0mnp\u001b[0m\u001b[0;34m.\u001b[0m\u001b[0marray\u001b[0m\u001b[0;34m(\u001b[0m\u001b[0mtheta2\u001b[0m\u001b[0;34m)\u001b[0m\u001b[0;34m)\u001b[0m\u001b[0;34m)\u001b[0m\u001b[0;34m\u001b[0m\u001b[0m\n\u001b[1;32m     29\u001b[0m \u001b[0mprint\u001b[0m\u001b[0;34m(\u001b[0m\u001b[0;36m1\u001b[0m\u001b[0;34m/\u001b[0m\u001b[0mlam\u001b[0m\u001b[0;34m,\u001b[0m\u001b[0mlam2\u001b[0m\u001b[0;34m)\u001b[0m\u001b[0;34m\u001b[0m\u001b[0m\n",
      "\u001b[0;31mNameError\u001b[0m: name 'u2' is not defined"
     ]
    }
   ],
   "source": [
    "import numpy as np\n",
    "import matplotlib.pyplot as plt\n",
    "\n",
    "Km = 0.1\n",
    "Kh = 0.01\n",
    "g = 9.81\n",
    "lapse = 0.004\n",
    "s = -5\n",
    "s = np.sin(s*3.14/180)\n",
    "C = -5\n",
    "T0 = 280\n",
    "zmax = 100\n",
    "\n",
    "\n",
    "lam = ((4*T0*Km*Kh)/(g*s**2*lapse))**(0.25)\n",
    "mu = ((g*Kh)/(T0*Km*lapse))**(0.5)\n",
    "\n",
    "theta1 = [C*np.exp(-z/lam)*np.cos(-z/lam) for z in np.arange(0,zmax,0.5)]\n",
    "u1 = [C*mu*np.exp(-z/lam)*np.sin(-z/lam) for z in np.arange(0,zmax,0.5)]\n",
    "\n",
    "lam2 = ((g*s**2*lapse)/(4*T0*Km*Kh))**(0.25)\n",
    "\n",
    "theta3 = [C*np.exp(-z*lam2)*np.cos(-z*lam2) for z in np.arange(0,zmax,0.5)]\n",
    "#theta2 = [C*np.exp(-z*lam2)*np.cos(-z*lam2) for z in np.arange(0,zmax,0.5)]\n",
    "#u2 = [C*np.exp(-z*lam2)*np.sin(-z*lam2) for z in np.arange(0,zmax,0.5)]\n",
    "\n",
    "print(np.max(np.array(u1)-np.array(u2)))\n",
    "print(np.max(np.array(theta1)-np.array(theta2)))\n",
    "print(1/lam,lam2)\n",
    "\n",
    "plt.plot(theta1,np.arange(0,zmax,0.5))\n",
    "plt.plot(u1,np.arange(0,zmax,0.5))\n",
    "\n",
    "plt.plot(theta2,np.arange(0,zmax,0.5))\n",
    "plt.plot(u2,np.arange(0,zmax,0.5))"
   ]
  },
  {
   "cell_type": "code",
   "execution_count": null,
   "id": "e104787f",
   "metadata": {},
   "outputs": [],
   "source": [
    "np.arange(0,10,0.1)"
   ]
  },
  {
   "cell_type": "code",
   "execution_count": null,
   "id": "d103edd6",
   "metadata": {},
   "outputs": [],
   "source": []
  }
 ],
 "metadata": {
  "kernelspec": {
   "display_name": "Python 3 (ipykernel)",
   "language": "python",
   "name": "python3"
  },
  "language_info": {
   "codemirror_mode": {
    "name": "ipython",
    "version": 3
   },
   "file_extension": ".py",
   "mimetype": "text/x-python",
   "name": "python",
   "nbconvert_exporter": "python",
   "pygments_lexer": "ipython3",
   "version": "3.7.0"
  }
 },
 "nbformat": 4,
 "nbformat_minor": 5
}