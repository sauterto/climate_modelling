{
 "cells": [
  {
   "cell_type": "markdown",
   "id": "70f8800e",
   "metadata": {
    "slideshow": {
     "slide_type": "slide"
    }
   },
   "source": [
    "(ebm:solution)=\n",
    "# Simplified Energy Balance Model"
   ]
  },
  {
   "cell_type": "markdown",
   "id": "99021484",
   "metadata": {
    "slideshow": {
     "slide_type": "slide"
    }
   },
   "source": [
    "**Task 1:** Write a Python function for the OLR and effective temperature for later use."
   ]
  },
  {
   "cell_type": "code",
   "execution_count": 1,
   "id": "65dbc0d3",
   "metadata": {
    "slideshow": {
     "slide_type": "fragment"
    }
   },
   "outputs": [],
   "source": [
    "# Stefan-Boltzmann constant\n",
    "sigma = 5.67e-8\n",
    "\n",
    "def T_eff(OLR):\n",
    "    \"\"\" Effective global mean emission temperature \"\"\"\n",
    "    return (OLR/sigma)**(0.25)\n",
    "     \n",
    "def OLR(T):\n",
    "    \"\"\" Stefan-Boltzmann law \"\"\"\n",
    "    return sigma * T**4"
   ]
  },
  {
   "cell_type": "markdown",
   "id": "ef603b4f",
   "metadata": {
    "slideshow": {
     "slide_type": "slide"
    }
   },
   "source": [
    "**Task 2:** Extend the OLR function by another **transmissivity** constant $\\tau$ which takes this effect into account. Determine the transmissivity for a global mean temperature of 288 K."
   ]
  },
  {
   "cell_type": "code",
   "execution_count": 2,
   "id": "a0b19637",
   "metadata": {
    "slideshow": {
     "slide_type": "fragment"
    }
   },
   "outputs": [],
   "source": [
    "def OLR(T, tau):\n",
    "    \"\"\" Stefan-Boltzmann law \"\"\"\n",
    "    return tau * sigma * T**4\n",
    "\n",
    "def tau(OLR, T):\n",
    "    \"\"\" Calculate transmissivity \"\"\"\n",
    "    return OLR / (sigma*T**4)"
   ]
  },
  {
   "cell_type": "code",
   "execution_count": 3,
   "id": "7548d3f0",
   "metadata": {
    "slideshow": {
     "slide_type": "fragment"
    }
   },
   "outputs": [
    {
     "name": "stdout",
     "output_type": "stream",
     "text": [
      "Transmissivity assuming a global mean temperature of 288 K: 0.61\n"
     ]
    }
   ],
   "source": [
    "print(\"Transmissivity assuming a global mean temperature of 288 K: {:.2f}\".format(tau(238.5, 288)))"
   ]
  },
  {
   "cell_type": "markdown",
   "id": "fc887056",
   "metadata": {
    "slideshow": {
     "slide_type": "slide"
    }
   },
   "source": [
    "**Task 3:** Determine the planetary albedo from the observations and write a function for the absorbed shortwave radiation, the part of the incoming sunlight that is not reflected back to space"
   ]
  },
  {
   "cell_type": "code",
   "execution_count": 4,
   "id": "7db98a13",
   "metadata": {
    "slideshow": {
     "slide_type": "fragment"
    }
   },
   "outputs": [
    {
     "name": "stdout",
     "output_type": "stream",
     "text": [
      "Planetary Albedo: 0.29856431292118374\n"
     ]
    }
   ],
   "source": [
    "Q = 341.3           # area-averaged insolation \n",
    "Freflected = 101.9  # reflected shortwave flux in W/m2\n",
    "alpha = Freflected/Q\n",
    "\n",
    "print(\"Planetary Albedo: {0}\".format(alpha))\n"
   ]
  },
  {
   "cell_type": "code",
   "execution_count": 5,
   "id": "8403a427",
   "metadata": {
    "slideshow": {
     "slide_type": "fragment"
    }
   },
   "outputs": [],
   "source": [
    "def ASR(Q, albedo):\n",
    "    \"\"\" Absorbed shortwave radiation \"\"\"\n",
    "    return (1-albedo) * Q"
   ]
  },
  {
   "cell_type": "code",
   "execution_count": 6,
   "id": "2f32ad2a",
   "metadata": {
    "slideshow": {
     "slide_type": "fragment"
    }
   },
   "outputs": [
    {
     "name": "stdout",
     "output_type": "stream",
     "text": [
      "Absorbed shortwave radiation: 239.4\n"
     ]
    }
   ],
   "source": [
    "print(\"Absorbed shortwave radiation: {}\".format(ASR(Q, alpha)))"
   ]
  },
  {
   "cell_type": "markdown",
   "id": "d67af54e",
   "metadata": {
    "slideshow": {
     "slide_type": "slide"
    }
   },
   "source": [
    "**Task 4:** What additional amount of energy would have to remain in the system for the global temperature to rise by 4 K?"
   ]
  },
  {
   "cell_type": "code",
   "execution_count": 7,
   "id": "96b700b1",
   "metadata": {},
   "outputs": [
    {
     "name": "stdout",
     "output_type": "stream",
     "text": [
      "Additionaly energy to increase global mean temperature by 4 K: 13.50 W m^-2\n"
     ]
    }
   ],
   "source": [
    "print(\"Additionaly energy to increase global mean temperature by 4 K: {:.2f} W m^-2\".format(OLR(292, 0.61)-OLR(288, 0.61)))"
   ]
  },
  {
   "cell_type": "markdown",
   "id": "afe62ba2",
   "metadata": {
    "slideshow": {
     "slide_type": "slide"
    }
   },
   "source": [
    "**Task 5:** Rearrange the equation according to the temperature denoting our equilibrium temperature. Substitute the observed values for insolation, transmissivity and planetary albedo and calculate the equlibrium temperature."
   ]
  },
  {
   "cell_type": "code",
   "execution_count": 8,
   "id": "52939c8c",
   "metadata": {
    "slideshow": {
     "slide_type": "fragment"
    }
   },
   "outputs": [
    {
     "name": "stdout",
     "output_type": "stream",
     "text": [
      "288.2713144788922\n"
     ]
    }
   ],
   "source": [
    "def equilibrium_temperature(alpha,Q,tau):\n",
    "    \"\"\" Equilibrium temperature \"\"\"\n",
    "    return ((1-alpha)*Q/(tau*sigma))**(1/4)\n",
    "\n",
    "Teq_observed = equilibrium_temperature(alpha,Q,tau(238.5, 288))\n",
    "print(Teq_observed)"
   ]
  },
  {
   "cell_type": "markdown",
   "id": "7bc2ff07",
   "metadata": {
    "slideshow": {
     "slide_type": "slide"
    }
   },
   "source": [
    "**Task 6:** With simple approaches such as equlibrium temperature, conceptual scenarios can be calculated. For example, the connection between the increase in albedo due to more cloud cover and the associated decrease in transmissivity can be investigated. For example, assume that the planetary albedo increases to 0.32 due to more cloud cover and that the transmissivity decreases to 0.57. What is the equilibrium temperature?"
   ]
  },
  {
   "cell_type": "code",
   "execution_count": 9,
   "id": "9760deb7",
   "metadata": {
    "slideshow": {
     "slide_type": "fragment"
    }
   },
   "outputs": [
    {
     "name": "stdout",
     "output_type": "stream",
     "text": [
      "The new equilibrium temperature is 291.10 K.\n",
      "The equilibrium temperature increased by about 2.8 K.\n"
     ]
    }
   ],
   "source": [
    "Teq_new = equilibrium_temperature(0.32, Q, 0.57)\n",
    "\n",
    "#  an example of formatted print output, limiting to two or one decimal places\n",
    "print('The new equilibrium temperature is {:.2f} K.'.format(Teq_new))\n",
    "print('The equilibrium temperature increased by about {:.1f} K.'.format(Teq_new-Teq_observed))"
   ]
  },
  {
   "cell_type": "markdown",
   "id": "c6f9d1ab",
   "metadata": {
    "slideshow": {
     "slide_type": "slide"
    }
   },
   "source": [
    "**Task 8:** Write a function called *step_forward(T, dt)* that returns the new temperature given the old temeprature T and timestep dt. Assume an initial temperature of 288 K and integrate the function for a few timestep and observe how the temperature changes."
   ]
  },
  {
   "cell_type": "code",
   "execution_count": 11,
   "id": "8f4b1450",
   "metadata": {
    "slideshow": {
     "slide_type": "fragment"
    }
   },
   "outputs": [],
   "source": [
    "def step_forward(Q, T, Cw, alpha, tau, dt):\n",
    "    return T + dt / Cw * ( ASR(Q, alpha) - OLR(T, tau) )"
   ]
  },
  {
   "cell_type": "code",
   "execution_count": 13,
   "id": "c2284e39",
   "metadata": {
    "slideshow": {
     "slide_type": "subslide"
    }
   },
   "outputs": [
    {
     "name": "stdout",
     "output_type": "stream",
     "text": [
      "New equlibrium temperature 288.03 after 1 year\n"
     ]
    }
   ],
   "source": [
    "T0 = 288\n",
    "dt = 60*60*24*365\n",
    "Cw = 10**10\n",
    "T = step_forward(341.3, T0, Cw, 0.32, 0.57, dt)\n",
    "print('New equlibrium temperature {:.2f} after 1 year'.format(T))"
   ]
  },
  {
   "cell_type": "code",
   "execution_count": 14,
   "id": "cdfa9fdb",
   "metadata": {
    "slideshow": {
     "slide_type": "fragment"
    }
   },
   "outputs": [
    {
     "name": "stdout",
     "output_type": "stream",
     "text": [
      "New equlibrium temperature 288.06 after 2 years\n"
     ]
    }
   ],
   "source": [
    "T = step_forward(Q, T, Cw, 0.32, 0.57, dt)\n",
    "print('New equlibrium temperature {:.2f} after 2 years'.format(T))"
   ]
  },
  {
   "cell_type": "code",
   "execution_count": 15,
   "id": "4381a272",
   "metadata": {
    "slideshow": {
     "slide_type": "fragment"
    }
   },
   "outputs": [
    {
     "name": "stdout",
     "output_type": "stream",
     "text": [
      "New equlibrium temperature 288.09 after 3 years\n"
     ]
    }
   ],
   "source": [
    "T = step_forward(Q, T, Cw, 0.32, 0.57, dt)\n",
    "print('New equlibrium temperature {:.2f} after 3 years'.format(T))"
   ]
  },
  {
   "cell_type": "markdown",
   "id": "d5e66966",
   "metadata": {
    "slideshow": {
     "slide_type": "slide"
    }
   },
   "source": [
    "**Task 9:** Integrate the equation over a time of 200 years and plot the result. Use the following initial and boundary conditions: \n",
    "\n",
    "$\n",
    "\\begin{align}\n",
    "S_0 &=1360 ~ W m^{-2} \\\\\n",
    "T_0 &= 273 ~ K \\\\ \n",
    "C_w &= 10^8 ~ J/(m^2 \\cdot K) \\\\\n",
    "\\alpha &= 0.3 \\\\\n",
    "\\tau &= 0.64\n",
    "\\end{align}\n",
    "$"
   ]
  },
  {
   "cell_type": "code",
   "execution_count": 1,
   "id": "930083f6",
   "metadata": {
    "slideshow": {
     "slide_type": "subslide"
    }
   },
   "outputs": [],
   "source": [
    "import numpy as np\n",
    "import matplotlib.pyplot as plt\n",
    "\n",
    "\n",
    "def OLR(T, tau):\n",
    "    \"\"\" Stefan-Boltzmann law \"\"\"\n",
    "    sigma = 5.67e-8\n",
    "    return tau * sigma * T**4\n",
    "\n",
    "def ASR(Q, alpha):\n",
    "    \"\"\" Absorbed shortwave radiation \"\"\"\n",
    "    return (1-alpha) * Q\n",
    "\n",
    "\n",
    "def step_forward(Q, T, Cw, alpha, tau, dt):\n",
    "    return T + dt / Cw * ( ASR(Q, alpha) - OLR(T, tau) )\n",
    "\n",
    "\n",
    "def ebm(T0, Q=341.3, Cw=10e8, alpha=0.3, tau=0.64, years=100):\n",
    "    ''' This is a simple Energy Balance Model with global radiation and outgoing longwave radiation.'''\n",
    "  \n",
    "    # Create result arrays\n",
    "    Ts    = np.zeros(years+1)\n",
    "    Years = np.zeros(years+1)\n",
    "    \n",
    "    # Timestep\n",
    "    dt = 60*60*24*365                  # convert days to seconds\n",
    "\n",
    "    # Initial and boundary conditions\n",
    "    Ts[0] = T0 \n",
    "\n",
    "    # Calculation\n",
    "    for n in range(years):\n",
    "        Years[n+1] = n+1\n",
    "        Ts[n+1] = step_forward( Q, Ts[n], Cw, alpha, tau, dt )\n",
    "        \n",
    "        \n",
    "    return Years, Ts\n",
    "\n",
    "\n"
   ]
  },
  {
   "cell_type": "code",
   "execution_count": 2,
   "id": "e6ff1982",
   "metadata": {
    "slideshow": {
     "slide_type": "subslide"
    }
   },
   "outputs": [
    {
     "data": {
      "text/plain": [
       "[<matplotlib.lines.Line2D at 0x10e355120>]"
      ]
     },
     "execution_count": 2,
     "metadata": {},
     "output_type": "execute_result"
    },
    {
     "data": {
      "image/png": "[encoded data removed]",
      "text/plain": [
       "<Figure size 1440x360 with 1 Axes>"
      ]
     },
     "metadata": {
      "filenames": {
       "image/png": "/Users/tsauter/Library/Mobile Documents/com~apple~CloudDocs/HU/Teaching/Kurse_WS22:23/climate_modelling/_build/jupyter_execute/docs/solution_nb_ebm_23_1.png"
      },
      "needs_background": "light"
     },
     "output_type": "display_data"
    }
   ],
   "source": [
    "# Integrate the model\n",
    "yrs, T_273 = ebm(273, Q=1360/4, alpha=0.30, tau=0.61, years=200)\n",
    "\n",
    "# Plot results\n",
    "fig = plt.figure(figsize=(20,5))\n",
    "plt.plot(T_273)"
   ]
  },
  {
   "cell_type": "markdown",
   "id": "8e0a603e",
   "metadata": {
    "slideshow": {
     "slide_type": "slide"
    }
   },
   "source": [
    "**Task 10:** What happens if the intial temperature is set to 293 K ?"
   ]
  },
  {
   "cell_type": "code",
   "execution_count": null,
   "id": "475378d7",
   "metadata": {
    "slideshow": {
     "slide_type": "fragment"
    }
   },
   "outputs": [],
   "source": [
    "# Integrate the model\n",
    "yrs, T_293 = ebm(293, Q=1360/4, alpha=0.30, tau=0.61, years=200)\n",
    "\n",
    "# Plot results\n",
    "fig = plt.figure(figsize=(20,5))\n",
    "plt.plot(T_293)\n",
    "plt.plot(T_273)\n"
   ]
  },
  {
   "cell_type": "markdown",
   "id": "b4d2f61e",
   "metadata": {
    "slideshow": {
     "slide_type": "slide"
    }
   },
   "source": [
    "**Task 11:** What changes do you observe with a higher $C_w$ value (e.g. $C_w=10\\cdot10^8 ~ J/(m^2 \\cdot K)$)?\n"
   ]
  },
  {
   "cell_type": "code",
   "execution_count": null,
   "id": "b2bfb120",
   "metadata": {
    "slideshow": {
     "slide_type": "fragment"
    }
   },
   "outputs": [],
   "source": [
    "# Integrate the model\n",
    "yrs, T_293_Cw = ebm(293, Q=1360/4, alpha=0.30, Cw=10*10e8, tau=0.61, years=200)\n",
    "\n",
    "# Plot results\n",
    "fig = plt.figure(figsize=(20,5))\n",
    "plt.plot(T_293)\n",
    "plt.plot(T_273)\n",
    "plt.plot(T_293_Cw)"
   ]
  },
  {
   "cell_type": "markdown",
   "id": "b4e0c79f",
   "metadata": {
    "slideshow": {
     "slide_type": "slide"
    }
   },
   "source": [
    "**Task 12:** How does the result change when $\\tau=1$?"
   ]
  },
  {
   "cell_type": "code",
   "execution_count": null,
   "id": "ba686e98",
   "metadata": {
    "slideshow": {
     "slide_type": "fragment"
    }
   },
   "outputs": [],
   "source": [
    "# Integrate the model\n",
    "yrs, T_293_tau = ebm(293, Q=1360/4, alpha=0.30, Cw=10*10e8, tau=1., years=200)\n",
    "\n",
    "# Plot results\n",
    "fig = plt.figure(figsize=(20,5))\n",
    "plt.plot(T_293, label='$T_{293}$')\n",
    "plt.plot(T_273, label='$T_{273}$')\n",
    "plt.plot(T_293_Cw, label='$T_{293 C_w}$')\n",
    "plt.plot(T_293_tau, label='$T_{293 \\tau}$')\n",
    "\n",
    "plt.legend()"
   ]
  },
  {
   "cell_type": "markdown",
   "id": "b9334fd2",
   "metadata": {
    "slideshow": {
     "slide_type": "slide"
    }
   },
   "source": [
    "### Case Study: Venus. \n",
    "\n",
    "Calculate the mean surface temperature on Venus. Due to its proximity to the Sun, Venus has a very high irradiance of $S_{0}=2619 ~ Wm^{-2}$. Due to the high cloud cover, the albedo is about 0.7. What surface temperature can be expected? (Use the previous values for $C_w$ and $\\tau$)."
   ]
  },
  {
   "cell_type": "code",
   "execution_count": null,
   "id": "756bf0ca",
   "metadata": {
    "slideshow": {
     "slide_type": "fragment"
    }
   },
   "outputs": [],
   "source": [
    "# Integrate the model\n",
    "yrs, T_venus = ebm(300, Q=2619/4, alpha=0.70, Cw=10e8, tau=0.61, years=500)\n",
    "\n",
    "# Plot results\n",
    "fig = plt.figure(figsize=(20,5))\n",
    "plt.plot(T_venus, label='$T_{venus}$')\n",
    "plt.legend()"
   ]
  },
  {
   "cell_type": "markdown",
   "id": "70fa093f",
   "metadata": {
    "slideshow": {
     "slide_type": "slide"
    }
   },
   "source": [
    "#### Compare the measurements with your simulation. \n",
    "\n",
    "Is there a difference? If so, why does this difference exist? (Use the model to prove your hypothesis)"
   ]
  },
  {
   "cell_type": "code",
   "execution_count": null,
   "id": "2eca2634",
   "metadata": {
    "slideshow": {
     "slide_type": "fragment"
    }
   },
   "outputs": [],
   "source": [
    "# Integrate the model\n",
    "yrs, T_venus = ebm(300, Q=2619/4, alpha=0.70, Cw=10e8, tau=0.015, years=500)\n",
    "\n",
    "# Plot results\n",
    "fig = plt.figure(figsize=(20,5))\n",
    "plt.plot(T_venus, label='$T_{venus}$')\n",
    "plt.legend()"
   ]
  },
  {
   "cell_type": "code",
   "execution_count": null,
   "id": "f57cc41e",
   "metadata": {},
   "outputs": [],
   "source": []
  }
 ],
 "metadata": {
  "kernelspec": {
   "display_name": "env",
   "language": "python",
   "name": "env"
  },
  "language_info": {
   "codemirror_mode": {
    "name": "ipython",
    "version": 3
   },
   "file_extension": ".py",
   "mimetype": "text/x-python",
   "name": "python",
   "nbconvert_exporter": "python",
   "pygments_lexer": "ipython3",
   "version": "3.10.8"
  }
 },
 "nbformat": 4,
 "nbformat_minor": 5
}