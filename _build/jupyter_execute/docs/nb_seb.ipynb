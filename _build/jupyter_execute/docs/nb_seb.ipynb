{
 "cells": [
  {
   "cell_type": "markdown",
   "id": "2110c0c1",
   "metadata": {},
   "source": [
    "(seb:exercise)=\n",
    "### Surface Energy Balance model\n",
    "\n",
    "The aim of this exercise is to understand how we can solve simple optimisation problems. To do this, we will develop a simple surface energy balance model (SEB). Since energy can neither be produced nor destroyed, the sum of the energy fluxes at the Earth's surface must be zero. If the static quantities such as roughness length, albedo, stability etc. are known and quantities such as temperature and humidity are measured, the balance of the energy fluxes at the surface is only a function of the surface temperature.\n",
    "\n",
    "For simplicity, we parameterise the turbulent fluxes with a bulk approach and neglect the soil heat flux. However, at the end of this exercise, we will consider the soil heat flux by coupling the heat conduction equation to the energy balance model."
   ]
  },
  {
   "cell_type": "markdown",
   "id": "8b804c65",
   "metadata": {},
   "source": [
    "**Task 1**: Develop a simple SEB model. The turbulent flows are to be parameterised using a simple bulk approach. Write a function that takes the following arguments: surface temperature, air temperature, relative humidity, albedo, global radiation, atmospheric pressure, air density, wind speed, altitude measured and roughness length. The function should return the short-wave radiation balance and the two turbulent energy fluxes."
   ]
  },
  {
   "cell_type": "code",
   "execution_count": null,
   "id": "818879fe",
   "metadata": {},
   "outputs": [],
   "source": [
    "import math\n",
    "import numpy as np\n",
    "from scipy.optimize import minimize, minimize_scalar\n",
    "import matplotlib.pyplot as plt\n",
    "\n",
    "%matplotlib inline\n",
    "\n",
    "\n",
    "def EB_fluxes(T_0,T_a,f,albedo,G,p,rho,U_L,z,z_0):\n",
    "    \"\"\" This function calculates the energy fluxes from the following quantities:\n",
    "    \n",
    "    Input: \n",
    "    T_0       : Surface temperature, which is optimized [K]\n",
    "    f         : Relative humdity as fraction, e.g. 0.7 [-]\n",
    "    albedo    : Snow albedo [-]\n",
    "    G         : Shortwave radiation [W m^-2]\n",
    "    p         : Air pressure [hPa]\n",
    "    rho       : Air denisty [kg m^-3]\n",
    "    z         : Measurement height [m]\n",
    "    z_0       : Roughness length [m]\n",
    "    \n",
    "    \"\"\"\n",
    "    \n",
    "    # Some constants\n",
    "    c_p =             # specific heat [J kg^-1 K^-1]\n",
    "    kappa =           # Von Karman constant [-]\n",
    "    sigma =           # Stefan-Bolzmann constant\n",
    "    \n",
    "    # Bulk coefficients \n",
    "    Cs_t = \n",
    "    Cs_q =   \n",
    "    \n",
    "    # Correction factor for incoming longwave radiation\n",
    "    eps_cs = 0.23 + 0.433 * np.power(100*(f*E_sat(T_a))/T_a,1.0/8.0)\n",
    "    \n",
    "    # Select the appropriate latent heat constant\n",
    "    L = 2.83e6 # latent heat for sublimation\n",
    "\n",
    "    # Calculate turbulent fluxes\n",
    "    H_0 = \n",
    "    E_0 = \n",
    "    \n",
    "    # Calculate radiation budget\n",
    "    L_d = \n",
    "    L_u = \n",
    "    Q_0 = \n",
    "\n",
    "    return (Q_0, L_d, L_u, H_0, E_0)\n",
    "\n",
    "def E_sat(T):\n",
    "    \"\"\" Saturation water vapor equation \"\"\"\n",
    "    Ew = 6.112 * np.exp((17.67*(T-273.16)) / ((T-29.66)))\n",
    "    return Ew\n"
   ]
  },
  {
   "cell_type": "code",
   "execution_count": null,
   "id": "1abc853c",
   "metadata": {},
   "outputs": [],
   "source": [
    "# Test the SEB function\n",
    "# Define necessary variables and parameters\n",
    "T_0 = 283.0   # Surface temperature\n",
    "T_a = 280.0   # Air temperature \n",
    "f = 0.7       # Relative humidity\n",
    "albedo = 0.3  # albedo\n",
    "G = 700.0     # Incoming shortwave radiation\n",
    "rho = 1.1     # Air density\n",
    "U = 2.0       # Wind velocity\n",
    "z =  2.0      # Measurement height\n",
    "z0 = 1e-3     # Roughness length\n",
    "p = 1013      # Pressure\n",
    "\n",
    "# Run the function\n",
    "Q_0, L_d, L_u, H_0, E_0 = EB_fluxes(T_0,T_a,f,albedo,G,p,rho,U,z,z0)\n",
    "\n",
    "# Print results\n",
    "print('Surface temperature: {:.2f}'.format(T_0))\n",
    "print('Global radiation: {:.2f}'.format(Q_0))\n",
    "print('Longwave down: {:.2f}'.format(L_d))\n",
    "print('Longwave up: {:.2f}'.format(L_u))\n",
    "print('Surface heat flux: {:.2f}'.format(H_0))\n",
    "print('Latent heat flux: {:.2f}'.format(E_0))"
   ]
  },
  {
   "cell_type": "markdown",
   "id": "d62613da",
   "metadata": {},
   "source": [
    "**Task 2**: Now we need to optimize for the surface temperature. Therefore, we need to write a so-called optimization function. In our case the sum of all fluxes should be zero. The SEB depends on the surface temperature. So we have to find the surface temperature which fulfills the condition $SEB(T_0)=Q_0+H_0+E_0=0$. "
   ]
  },
  {
   "cell_type": "code",
   "execution_count": null,
   "id": "5f481815",
   "metadata": {},
   "outputs": [],
   "source": [
    "def optim_T0(x,T_a,f,albedo,G,p,rho,U_L,z,z0):\n",
    "    \"\"\" Optimization function for surface temperature:\n",
    "    \n",
    "    Input: \n",
    "    T_0       : Surface temperature, which is optimized [K]\n",
    "    f         : Relative humdity as fraction, e.g. 0.7 [-]\n",
    "    albedo    : Snow albedo [-]\n",
    "    G         : Shortwave radiation [W m^-2]\n",
    "    p         : Air pressure [hPa]\n",
    "    rho       : Air denisty [kg m^-3]\n",
    "    z         : Measurement height [m]\n",
    "    z_0       : Roughness length [m]\n",
    "    \n",
    "    \"\"\"\n",
    "    \n",
    "    Q_0, L_d, L_u, H_0, E_0 = EB_fluxes(x,T_a,f,albedo,G,p,rho,U_L,z,z0)\n",
    "    \n",
    "    # Get residual for optimization\n",
    "    res = np.abs()\n",
    "\n",
    "    # return the residuals\n",
    "    return res"
   ]
  },
  {
   "cell_type": "markdown",
   "id": "9db58984",
   "metadata": {},
   "source": [
    "We use the **minimize function** from the scipy module to find the temperature values. "
   ]
  },
  {
   "cell_type": "code",
   "execution_count": null,
   "id": "d1d5c2c4",
   "metadata": {
    "scrolled": true
   },
   "outputs": [],
   "source": [
    "# Test the SEB function\n",
    "# Define necessary variables and parameters\n",
    "T_0 = 283.0   # Surface temperature\n",
    "T_a = 280.0   # Air temperature \n",
    "f = 0.7       # Relative humidity\n",
    "albedo = 0.3  # albedo\n",
    "G = 700.0     # Incoming shortwave radiation\n",
    "rho = 1.1     # Air density\n",
    "U = 2.0       # Wind velocity\n",
    "z =  2.0      # Measurement height\n",
    "z0 = 1e-3     # Roughness length\n",
    "p = 1013      # Pressure\n",
    "\n",
    "# Run the function\n",
    "res = minimize(optim_T0,x0=T_0,args=(T_a,f,albedo,G,p,rho,U,z,z0),bounds=((None,400),), \\\n",
    "                         method='L-BFGS-B',options={'eps':1e-8})\n",
    "\n",
    "res"
   ]
  },
  {
   "cell_type": "markdown",
   "id": "f9698adc",
   "metadata": {},
   "source": [
    "The temperature value is stored in the x value of the result dictionary"
   ]
  },
  {
   "cell_type": "code",
   "execution_count": null,
   "id": "2bf9ce4e",
   "metadata": {},
   "outputs": [],
   "source": [
    "# Assign optimization result to variable T_0\n",
    "T_0 = res.x[0]\n",
    "\n",
    "# Run the function\n",
    "Q_0, L_d, L_u, H_0, E_0 = EB_fluxes(T_0,T_a,f,albedo,G,p,rho,U,z,z0)\n",
    "\n",
    "# Print results\n",
    "print('Surface temperature: {:.2f}'.format(T_0))\n",
    "print('Global radiation: {:.2f}'.format(Q_0))\n",
    "print('Longwave down: {:.2f}'.format(L_d))\n",
    "print('Longwave up: {:.2f}'.format(L_u))\n",
    "print('Surface heat flux: {:.2f}'.format(H_0))\n",
    "print('Latent heat flux: {:.2f}'.format(E_0))"
   ]
  }
 ],
 "metadata": {
  "kernelspec": {
   "display_name": "Python 3 (ipykernel)",
   "language": "python",
   "name": "python3"
  },
  "language_info": {
   "codemirror_mode": {
    "name": "ipython",
    "version": 3
   },
   "file_extension": ".py",
   "mimetype": "text/x-python",
   "name": "python",
   "nbconvert_exporter": "python",
   "pygments_lexer": "ipython3",
   "version": "3.8.9"
  }
 },
 "nbformat": 4,
 "nbformat_minor": 5
}