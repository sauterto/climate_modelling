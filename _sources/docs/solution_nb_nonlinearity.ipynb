{
 "cells": [
  {
   "cell_type": "markdown",
   "id": "8efda8ad",
   "metadata": {},
   "source": [
    "(nonlinearity:solution)=\n",
    "### Von-May function\n",
    "\n",
    "Write a function which solves the Von-May-Equation.\n",
    "\n",
    "\n",
    "#### Problem description:\n",
    "\n",
    "<blockquote>The starting point for our analysis is the ‘Von-May-Equation’, which is given by <br>\n",
    "\n",
    "    \n",
    "**\\begin{align}    \n",
    "y_{t+1} = r \\cdot y_{t} \\cdot (1-y_{t}),\n",
    "\\end{align}**\n",
    "\n",
    "with  $r$ an pre-defined parameter and $y$ the function value at time $t$ and $t+1$.</blockquote>"
   ]
  },
  {
   "cell_type": "code",
   "execution_count": 305,
   "id": "da6a838d",
   "metadata": {},
   "outputs": [],
   "source": [
    "import matplotlib.pyplot as plt\n",
    "\n",
    "def von_may(y0,r):\n",
    "    '''\n",
    "    This function integrates the Von-May Equationn using a then initial condition y0, \n",
    "    and the parameter r\n",
    "    '''\n",
    "    # Add your code here\n",
    "    pass \n",
    "\n",
    "\n"
   ]
  },
  {
   "cell_type": "markdown",
   "id": "183dd0d3",
   "metadata": {},
   "source": [
    "Run the code for several initial and parameter combination. What is particularly striking about increasing r-values?\n",
    "\n",
    "\n",
    "```\n",
    "y(0)=0.5 and r=2.80 (alternatively, use y(0)=0.9) \n",
    "y(0)=0.5 and r=3.30 (alternatively, use y(0)=0.9) \n",
    "y(0)=0.5 and r=3.95 (alternatively, use y(0)=0.495) \n",
    "y(0)=0.8 and r=2.80 \n",
    "\n",
    "```"
   ]
  },
  {
   "cell_type": "code",
   "execution_count": 1,
   "id": "76f548c4",
   "metadata": {},
   "outputs": [],
   "source": [
    "# Integrate the equation and plot the results\n"
   ]
  },
  {
   "cell_type": "markdown",
   "id": "870dcd34",
   "metadata": {},
   "source": [
    "### Extend the Von-May function\n",
    "Extend this Von-May function by generating 20 random r-values and run simulations with them. Sample the values from a normal distribution with mean 3.95 and standard deviation 0.015 (limit the r-values between 0 and 4). Then average over all time series. Plot both the time series, the averaged time series and the histogram of the averaged time series. What do you observe?"
   ]
  },
  {
   "cell_type": "code",
   "execution_count": 4,
   "id": "e1a32232",
   "metadata": {},
   "outputs": [],
   "source": [
    "import random\n",
    "import numpy as np\n",
    "\n",
    "def ensemble_may(n, y0, r):\n",
    "    '''\n",
    "    The function runs n ensemble members of the Von-May-Equation. The function takes the \n",
    "    initial condition y0, the parameter r, and the number of ensemble members n.\n",
    "\n",
    "    '''\n",
    "    # Add your code here\n",
    "    pass \n",
    "\n"
   ]
  },
  {
   "cell_type": "code",
   "execution_count": 5,
   "id": "f692d531",
   "metadata": {},
   "outputs": [],
   "source": [
    "# Plot the results"
   ]
  },
  {
   "cell_type": "markdown",
   "id": "48180154",
   "metadata": {},
   "source": [
    "## Revisit the EBM-Model\n",
    "\n",
    "#### Include a dynamic transmissivity in the energy balance model.\n",
    "\n",
    "Run the energy balance model $T(0)=288 ~ K$, $C_w= 2\\cdot10^8 ~ J/(m^2\n",
    " 57 \\cdot K)$, $\\alpha=0.3$, and $\\tau_{mean}=0.608 (\\pm 1\\%)$"
   ]
  },
  {
   "cell_type": "code",
   "execution_count": 295,
   "id": "caaf8390",
   "metadata": {},
   "outputs": [],
   "source": [
    "import random\n",
    "import numpy as np\n",
    "import matplotlib.pyplot as plt\n",
    "\n",
    "\n",
    "def OLR(T, tau):\n",
    "    \"\"\" Stefan-Boltzmann law \"\"\"\n",
    "    # Add your code here\n",
    "    pass \n",
    "\n",
    "def ASR(Q, alpha):\n",
    "    \"\"\" Absorbed shortwave radiation \"\"\"\n",
    "    # Add your code here\n",
    "    pass \n",
    "\n",
    "\n",
    "def step_forward(Q, T, Cw, alpha, tau, dt):\n",
    "    # Add your code here\n",
    "    pass \n",
    "\n",
    "\n",
    "def ebm_stochastic(T0, Q=341.3, Cw=10e8, alpha=0.3, tau=0.64, years=100):\n",
    "    ''' This is a simple Energy Balance Model with global radiation and outgoing longwave radiation.'''\n",
    "    # Add your code here\n",
    "    pass \n",
    "        "
   ]
  },
  {
   "cell_type": "code",
   "execution_count": 6,
   "id": "9b2645de",
   "metadata": {},
   "outputs": [],
   "source": [
    "# Plot the results"
   ]
  },
  {
   "cell_type": "markdown",
   "id": "b3843a81",
   "metadata": {},
   "source": [
    "#### Extend the model with a simple ice/land use albedo parameterisation. \n",
    "\n",
    "In this parameterisation, the albedo is solely a function of mean temperature. As a non-linear function we assume a sigmoid function with\n",
    "\n",
    "\\begin{align}\n",
    "\\alpha(T_i) = 0.3 \\cdot (1-0.03 \\cdot \\tanh(1.548 \\cdot (T_i-288))).\n",
    "\\end{align}\n",
    "\n",
    "Run the energy balance model for 100 years with four different initial conditions for T(0)=286.0, 288.6, 288.9, and 293.0 K, while fixing the other parameters to $C_w$= 2$\\cdot10^8$ J/(m$^2 \\cdot$ K), $\\alpha$=0.3, and $\\tau_{mean}$=0.608. \n",
    "\n",
    "What can be said about the state of equilibrium?"
   ]
  },
  {
   "cell_type": "code",
   "execution_count": 299,
   "id": "18b2e129",
   "metadata": {},
   "outputs": [],
   "source": [
    "import random\n",
    "import numpy as np\n",
    "import matplotlib.pyplot as plt\n",
    "\n",
    "\n",
    "def OLR(T, tau):\n",
    "    \"\"\" Stefan-Boltzmann law \"\"\"\n",
    "    # Add your code here\n",
    "    pass \n",
    "\n",
    "def ASR(Q, alpha):\n",
    "    \"\"\" Absorbed shortwave radiation \"\"\"\n",
    "    # Add your code here\n",
    "    pass \n",
    "\n",
    "\n",
    "def step_forward(Q, T, Cw, alpha, tau, dt):\n",
    "    # Add your code here\n",
    "    pass \n",
    "\n",
    "\n",
    "def ebm_stochastic(T0, Q=341.3, Cw=10e8, alpha=0.3, tau=0.64, years=100):\n",
    "    ''' This is a simple Energy Balance Model with global radiation and outgoing longwave radiation.'''\n",
    "    # Add your code here\n",
    "    pass "
   ]
  },
  {
   "cell_type": "code",
   "execution_count": 7,
   "id": "d1c79112",
   "metadata": {},
   "outputs": [],
   "source": [
    "# Plot the results"
   ]
  },
  {
   "cell_type": "markdown",
   "id": "eb560a39",
   "metadata": {},
   "source": [
    "#### Repeat the previous simulation, but again sample the transmissivity on a normal distribution with a standard deviation of 3%.  \n",
    "What special feature can now be observed? What conclusions can be inferred regarding the prediction of\n",
    "weather and climate?\n"
   ]
  },
  {
   "cell_type": "code",
   "execution_count": 301,
   "id": "273e9925",
   "metadata": {},
   "outputs": [],
   "source": [
    "import random\n",
    "import numpy as np\n",
    "import matplotlib.pyplot as plt\n",
    "\n",
    "\n",
    "def OLR(T, tau):\n",
    "    \"\"\" Stefan-Boltzmann law \"\"\"\n",
    "    # Add your code here\n",
    "    pass \n",
    "\n",
    "def ASR(Q, alpha):\n",
    "    \"\"\" Absorbed shortwave radiation \"\"\"\n",
    "    # Add your code here\n",
    "    pass \n",
    "\n",
    "\n",
    "def step_forward(Q, T, Cw, alpha, tau, dt):\n",
    "    # Add your code here\n",
    "    pass \n",
    "\n",
    "\n",
    "def ebm_stochastic(T0, Q=341.3, Cw=10e8, alpha=0.3, tau=0.64, years=100):\n",
    "    ''' This is a simple Energy Balance Model with global radiation and outgoing longwave radiation.'''\n",
    "    # Add your code here\n",
    "    pass "
   ]
  },
  {
   "cell_type": "code",
   "execution_count": 8,
   "id": "973dbb0d",
   "metadata": {},
   "outputs": [],
   "source": [
    "# Plot the results"
   ]
  },
  {
   "cell_type": "code",
   "execution_count": null,
   "id": "169ef94f",
   "metadata": {},
   "outputs": [],
   "source": []
  }
 ],
 "metadata": {
  "kernelspec": {
   "display_name": "Python 3 (ipykernel)",
   "language": "python",
   "name": "python3"
  },
  "language_info": {
   "codemirror_mode": {
    "name": "ipython",
    "version": 3
   },
   "file_extension": ".py",
   "mimetype": "text/x-python",
   "name": "python",
   "nbconvert_exporter": "python",
   "pygments_lexer": "ipython3",
   "version": "3.7.0"
  }
 },
 "nbformat": 4,
 "nbformat_minor": 5
}
