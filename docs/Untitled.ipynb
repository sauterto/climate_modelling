{
 "cells": [
  {
   "cell_type": "code",
   "execution_count": 17,
   "id": "a9bb1a9b",
   "metadata": {},
   "outputs": [
    {
     "name": "stdout",
     "output_type": "stream",
     "text": [
      "0.0044614771167618\n",
      "1.6653345369377348e-16\n",
      "0.12769265453593284 0.12769265453593284\n"
     ]
    },
    {
     "data": {
      "text/plain": [
       "[<matplotlib.lines.Line2D at 0x7fe790f42438>]"
      ]
     },
     "execution_count": 17,
     "metadata": {},
     "output_type": "execute_result"
    },
    {
     "data": {
      "image/png": "[encoded data removed]",
      "text/plain": [
       "<Figure size 432x288 with 1 Axes>"
      ]
     },
     "metadata": {
      "needs_background": "light"
     },
     "output_type": "display_data"
    }
   ],
   "source": [
    "import numpy as np\n",
    "import matplotlib.pyplot as plt\n",
    "\n",
    "Km = 0.1\n",
    "Kh = 0.01\n",
    "g = 9.81\n",
    "lapse = 0.004\n",
    "s = -5\n",
    "s = np.sin(s*3.14/180)\n",
    "C = -5\n",
    "T0 = 280\n",
    "zmax = 100\n",
    "\n",
    "\n",
    "lam = ((4*T0*Km*Kh)/(g*s**2*lapse))**(0.25)\n",
    "mu = ((g*Kh)/(T0*Km*lapse))**(0.5)\n",
    "\n",
    "theta1 = [C*np.exp(-z/lam)*np.cos(-z/lam) for z in np.arange(0,zmax,0.5)]\n",
    "u1 = [C*mu*np.exp(-z/lam)*np.sin(-z/lam) for z in np.arange(0,zmax,0.5)]\n",
    "\n",
    "lam2 = ((g*s**2*lapse)/(4*T0*Km*Kh))**(0.25)\n",
    "\n",
    "theta3 = [C*np.exp(-z*lam2)*np.cos(-z*lam2) for z in np.arange(0,zmax,0.5)]\n",
    "#theta2 = [C*np.exp(-z*lam2)*np.cos(-z*lam2) for z in np.arange(0,zmax,0.5)]\n",
    "#u2 = [C*np.exp(-z*lam2)*np.sin(-z*lam2) for z in np.arange(0,zmax,0.5)]\n",
    "\n",
    "print(np.max(np.array(u1)-np.array(u2)))\n",
    "print(np.max(np.array(theta1)-np.array(theta2)))\n",
    "print(1/lam,lam2)\n",
    "\n",
    "plt.plot(theta1,np.arange(0,zmax,0.5))\n",
    "plt.plot(u1,np.arange(0,zmax,0.5))\n",
    "\n",
    "plt.plot(theta2,np.arange(0,zmax,0.5))\n",
    "plt.plot(u2,np.arange(0,zmax,0.5))"
   ]
  },
  {
   "cell_type": "code",
   "execution_count": null,
   "id": "e104787f",
   "metadata": {},
   "outputs": [],
   "source": [
    "np.arange(0,10,0.1)"
   ]
  },
  {
   "cell_type": "code",
   "execution_count": null,
   "id": "d103edd6",
   "metadata": {},
   "outputs": [],
   "source": []
  }
 ],
 "metadata": {
  "kernelspec": {
   "display_name": "Python 3 (ipykernel)",
   "language": "python",
   "name": "python3"
  },
  "language_info": {
   "codemirror_mode": {
    "name": "ipython",
    "version": 3
   },
   "file_extension": ".py",
   "mimetype": "text/x-python",
   "name": "python",
   "nbconvert_exporter": "python",
   "pygments_lexer": "ipython3",
   "version": "3.7.0"
  }
 },
 "nbformat": 4,
 "nbformat_minor": 5
}
